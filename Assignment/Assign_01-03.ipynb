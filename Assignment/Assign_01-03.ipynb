{
 "cells": [
  {
   "cell_type": "markdown",
   "id": "23f5de95",
   "metadata": {},
   "source": [
    "# Assignment-01:\n",
    "- Write blog on medium.com, Title: NLP Landscape from 1960-2023, Describe about NLP and its history. \n",
    "\n",
    "# Assignment-02:\n",
    "- Given two questions on quora, you have to tell whether two questions are same or not meaning wise. \n",
    "- Give approach. NOTE: You are not working in the company so dataset is not handy with you.\n",
    "\n",
    "# Assignment-03:\n",
    "- Extract the data from given API and load it to csv file.\n",
    "- Perform all preprocessing steps over that dataset."
   ]
  },
  {
   "cell_type": "markdown",
   "id": "07d22868",
   "metadata": {},
   "source": [
    "## Assignment-03: Pre-processing"
   ]
  },
  {
   "cell_type": "code",
   "execution_count": 1,
   "id": "a1e330b7",
   "metadata": {},
   "outputs": [],
   "source": [
    "# Importing Library\n",
    "import numpy as np \n",
    "import pandas as pd "
   ]
  },
  {
   "cell_type": "code",
   "execution_count": 3,
   "id": "dff0ecf5",
   "metadata": {},
   "outputs": [
    {
     "data": {
      "text/html": [
       "<div>\n",
       "<style scoped>\n",
       "    .dataframe tbody tr th:only-of-type {\n",
       "        vertical-align: middle;\n",
       "    }\n",
       "\n",
       "    .dataframe tbody tr th {\n",
       "        vertical-align: top;\n",
       "    }\n",
       "\n",
       "    .dataframe thead th {\n",
       "        text-align: right;\n",
       "    }\n",
       "</style>\n",
       "<table border=\"1\" class=\"dataframe\">\n",
       "  <thead>\n",
       "    <tr style=\"text-align: right;\">\n",
       "      <th></th>\n",
       "      <th>Unnamed: 0</th>\n",
       "      <th>adult</th>\n",
       "      <th>backdrop_path</th>\n",
       "      <th>genre_ids</th>\n",
       "      <th>id</th>\n",
       "      <th>original_language</th>\n",
       "      <th>original_title</th>\n",
       "      <th>overview</th>\n",
       "      <th>popularity</th>\n",
       "      <th>poster_path</th>\n",
       "      <th>release_date</th>\n",
       "      <th>title</th>\n",
       "      <th>video</th>\n",
       "      <th>vote_average</th>\n",
       "      <th>vote_count</th>\n",
       "      <th>genre</th>\n",
       "    </tr>\n",
       "  </thead>\n",
       "  <tbody>\n",
       "    <tr>\n",
       "      <th>0</th>\n",
       "      <td>0</td>\n",
       "      <td>False</td>\n",
       "      <td>/tmU7GeKVybMWFButWEGl2M4GeiP.jpg</td>\n",
       "      <td>(18, 80)</td>\n",
       "      <td>238</td>\n",
       "      <td>en</td>\n",
       "      <td>The Godfather</td>\n",
       "      <td>Spanning the years 1945 to 1955, a chronicle o...</td>\n",
       "      <td>125.465</td>\n",
       "      <td>/3bhkrj58Vtu7enYsRolD1fZdja1.jpg</td>\n",
       "      <td>1972-03-14</td>\n",
       "      <td>The Godfather</td>\n",
       "      <td>False</td>\n",
       "      <td>8.710</td>\n",
       "      <td>18937</td>\n",
       "      <td>('Drama', 'Crime')</td>\n",
       "    </tr>\n",
       "    <tr>\n",
       "      <th>1</th>\n",
       "      <td>1</td>\n",
       "      <td>False</td>\n",
       "      <td>/kXfqcdQKsToO0OUXHcrrNCHDBzO.jpg</td>\n",
       "      <td>(18, 80)</td>\n",
       "      <td>278</td>\n",
       "      <td>en</td>\n",
       "      <td>The Shawshank Redemption</td>\n",
       "      <td>Framed in the 1940s for the double murder of h...</td>\n",
       "      <td>103.805</td>\n",
       "      <td>/q6y0Go1tsGEsmtFryDOJo3dEmqu.jpg</td>\n",
       "      <td>1994-09-23</td>\n",
       "      <td>The Shawshank Redemption</td>\n",
       "      <td>False</td>\n",
       "      <td>8.704</td>\n",
       "      <td>24918</td>\n",
       "      <td>('Drama', 'Crime')</td>\n",
       "    </tr>\n",
       "    <tr>\n",
       "      <th>2</th>\n",
       "      <td>2</td>\n",
       "      <td>False</td>\n",
       "      <td>/kGzFbGhp99zva6oZODW5atUtnqi.jpg</td>\n",
       "      <td>(18, 80)</td>\n",
       "      <td>240</td>\n",
       "      <td>en</td>\n",
       "      <td>The Godfather Part II</td>\n",
       "      <td>In the continuing saga of the Corleone crime f...</td>\n",
       "      <td>69.947</td>\n",
       "      <td>/hek3koDUyRQk7FIhPXsa6mT2Zc3.jpg</td>\n",
       "      <td>1974-12-20</td>\n",
       "      <td>The Godfather Part II</td>\n",
       "      <td>False</td>\n",
       "      <td>8.590</td>\n",
       "      <td>11436</td>\n",
       "      <td>('Drama', 'Crime')</td>\n",
       "    </tr>\n",
       "  </tbody>\n",
       "</table>\n",
       "</div>"
      ],
      "text/plain": [
       "   Unnamed: 0  adult                     backdrop_path genre_ids   id  \\\n",
       "0           0  False  /tmU7GeKVybMWFButWEGl2M4GeiP.jpg  (18, 80)  238   \n",
       "1           1  False  /kXfqcdQKsToO0OUXHcrrNCHDBzO.jpg  (18, 80)  278   \n",
       "2           2  False  /kGzFbGhp99zva6oZODW5atUtnqi.jpg  (18, 80)  240   \n",
       "\n",
       "  original_language            original_title  \\\n",
       "0                en             The Godfather   \n",
       "1                en  The Shawshank Redemption   \n",
       "2                en     The Godfather Part II   \n",
       "\n",
       "                                            overview  popularity  \\\n",
       "0  Spanning the years 1945 to 1955, a chronicle o...     125.465   \n",
       "1  Framed in the 1940s for the double murder of h...     103.805   \n",
       "2  In the continuing saga of the Corleone crime f...      69.947   \n",
       "\n",
       "                        poster_path release_date                     title  \\\n",
       "0  /3bhkrj58Vtu7enYsRolD1fZdja1.jpg   1972-03-14             The Godfather   \n",
       "1  /q6y0Go1tsGEsmtFryDOJo3dEmqu.jpg   1994-09-23  The Shawshank Redemption   \n",
       "2  /hek3koDUyRQk7FIhPXsa6mT2Zc3.jpg   1974-12-20     The Godfather Part II   \n",
       "\n",
       "   video  vote_average  vote_count               genre  \n",
       "0  False         8.710       18937  ('Drama', 'Crime')  \n",
       "1  False         8.704       24918  ('Drama', 'Crime')  \n",
       "2  False         8.590       11436  ('Drama', 'Crime')  "
      ]
     },
     "execution_count": 3,
     "metadata": {},
     "output_type": "execute_result"
    }
   ],
   "source": [
    "# Reading the dataset\n",
    "df = pd.read_csv('C:/Users/Dharmendra Kumar/NLP/A1_Movies_dataset.csv')\n",
    "df.head(3)"
   ]
  },
  {
   "cell_type": "code",
   "execution_count": 4,
   "id": "520f6b65",
   "metadata": {},
   "outputs": [
    {
     "data": {
      "text/plain": [
       "((8868, 16), 141888)"
      ]
     },
     "execution_count": 4,
     "metadata": {},
     "output_type": "execute_result"
    }
   ],
   "source": [
    "# Shape and size\n",
    "df.shape, df.size"
   ]
  },
  {
   "cell_type": "code",
   "execution_count": 5,
   "id": "9df8f2e1",
   "metadata": {},
   "outputs": [],
   "source": [
    "# Removing unnecessary column\n",
    "df.drop(['Unnamed: 0','original_language','backdrop_path','poster_path'], axis=1, inplace=True)"
   ]
  },
  {
   "cell_type": "code",
   "execution_count": 8,
   "id": "34cbdc5b",
   "metadata": {},
   "outputs": [],
   "source": [
    "# Rearranging columns\n",
    "# df=df[['id','adult','original_title','title','release_date','genre','video','popularity','vote_average','vote_count',\n",
    "#        'genre_ids','overview']]\n",
    "\n",
    "df=df[['id','adult','original_title','overview']]"
   ]
  },
  {
   "cell_type": "markdown",
   "id": "f0f8ca9c",
   "metadata": {},
   "source": [
    "# Pre-processing"
   ]
  },
  {
   "cell_type": "code",
   "execution_count": 11,
   "id": "391e2f03",
   "metadata": {},
   "outputs": [],
   "source": [
    "# 1. Lower Case\n",
    "df['overview'] = df['overview'].str.lower()"
   ]
  },
  {
   "cell_type": "code",
   "execution_count": 26,
   "id": "70dd9559",
   "metadata": {},
   "outputs": [],
   "source": [
    "# 2. Removing Punctuation\n",
    "\n",
    "spchar = '!\"#$%&\\'()*+,-./:;<=>?@[\\\\]^_`{|}~'\n",
    "def remove_spchar1(text):\n",
    "    if isinstance(text, str):\n",
    "        for char in spchar:\n",
    "            text = text.replace(char, '')\n",
    "    return text"
   ]
  },
  {
   "cell_type": "code",
   "execution_count": 27,
   "id": "9efe925a",
   "metadata": {},
   "outputs": [],
   "source": [
    "# Applying on dataset\n",
    "df['overview'] = df['overview'].apply(lambda x: remove_spchar1(x))"
   ]
  },
  {
   "cell_type": "code",
   "execution_count": 34,
   "id": "a0512059",
   "metadata": {},
   "outputs": [],
   "source": [
    "# 3. Removing Stop Words\n",
    "\n",
    "from nltk.corpus import stopwords\n",
    "\n",
    "eng_stop_words = stopwords.words('english')\n",
    "\n",
    "def remove_stopwords(text):\n",
    "    if isinstance(text, str):\n",
    "        new_text = []\n",
    "        for word in text.split():\n",
    "            if word.lower() not in eng_stop_words:\n",
    "                new_text.append(word)\n",
    "        return ' '.join(new_text)\n",
    "    else:\n",
    "        return text"
   ]
  },
  {
   "cell_type": "code",
   "execution_count": 35,
   "id": "0fe0765f",
   "metadata": {},
   "outputs": [],
   "source": [
    "# Applying on dataset\n",
    "df['overview'] = df['overview'].apply(lambda x: remove_stopwords(x))"
   ]
  },
  {
   "cell_type": "code",
   "execution_count": null,
   "id": "208eb928",
   "metadata": {},
   "outputs": [],
   "source": [
    "# Tokenization/stemming/lemmatization----------------------->left"
   ]
  },
  {
   "cell_type": "code",
   "execution_count": null,
   "id": "bf794319",
   "metadata": {},
   "outputs": [],
   "source": []
  },
  {
   "cell_type": "code",
   "execution_count": null,
   "id": "960c9c51",
   "metadata": {},
   "outputs": [],
   "source": []
  },
  {
   "cell_type": "code",
   "execution_count": 37,
   "id": "dd0f1105",
   "metadata": {},
   "outputs": [
    {
     "name": "stdout",
     "output_type": "stream",
     "text": [
      "spanning years 1945 1955 chronicle fictional italianamerican corleone crime family organized crime family patriarch vito corleone barely survives attempt life youngest son michael steps take care wouldbe killers launching campaign bloody revenge\n"
     ]
    }
   ],
   "source": [
    "for i in df['overview']:\n",
    "    print(i)\n",
    "    break"
   ]
  },
  {
   "cell_type": "code",
   "execution_count": 36,
   "id": "73499179",
   "metadata": {},
   "outputs": [
    {
     "data": {
      "text/html": [
       "<div>\n",
       "<style scoped>\n",
       "    .dataframe tbody tr th:only-of-type {\n",
       "        vertical-align: middle;\n",
       "    }\n",
       "\n",
       "    .dataframe tbody tr th {\n",
       "        vertical-align: top;\n",
       "    }\n",
       "\n",
       "    .dataframe thead th {\n",
       "        text-align: right;\n",
       "    }\n",
       "</style>\n",
       "<table border=\"1\" class=\"dataframe\">\n",
       "  <thead>\n",
       "    <tr style=\"text-align: right;\">\n",
       "      <th></th>\n",
       "      <th>id</th>\n",
       "      <th>adult</th>\n",
       "      <th>original_title</th>\n",
       "      <th>overview</th>\n",
       "    </tr>\n",
       "  </thead>\n",
       "  <tbody>\n",
       "    <tr>\n",
       "      <th>0</th>\n",
       "      <td>238</td>\n",
       "      <td>False</td>\n",
       "      <td>The Godfather</td>\n",
       "      <td>spanning years 1945 1955 chronicle fictional i...</td>\n",
       "    </tr>\n",
       "    <tr>\n",
       "      <th>1</th>\n",
       "      <td>278</td>\n",
       "      <td>False</td>\n",
       "      <td>The Shawshank Redemption</td>\n",
       "      <td>framed 1940s double murder wife lover upstandi...</td>\n",
       "    </tr>\n",
       "  </tbody>\n",
       "</table>\n",
       "</div>"
      ],
      "text/plain": [
       "    id  adult            original_title  \\\n",
       "0  238  False             The Godfather   \n",
       "1  278  False  The Shawshank Redemption   \n",
       "\n",
       "                                            overview  \n",
       "0  spanning years 1945 1955 chronicle fictional i...  \n",
       "1  framed 1940s double murder wife lover upstandi...  "
      ]
     },
     "execution_count": 36,
     "metadata": {},
     "output_type": "execute_result"
    }
   ],
   "source": [
    "df.head(2)"
   ]
  },
  {
   "cell_type": "code",
   "execution_count": null,
   "id": "91f39484",
   "metadata": {},
   "outputs": [],
   "source": []
  },
  {
   "cell_type": "code",
   "execution_count": null,
   "id": "0d42ae98",
   "metadata": {},
   "outputs": [],
   "source": []
  }
 ],
 "metadata": {
  "kernelspec": {
   "display_name": "Python 3 (ipykernel)",
   "language": "python",
   "name": "python3"
  },
  "language_info": {
   "codemirror_mode": {
    "name": "ipython",
    "version": 3
   },
   "file_extension": ".py",
   "mimetype": "text/x-python",
   "name": "python",
   "nbconvert_exporter": "python",
   "pygments_lexer": "ipython3",
   "version": "3.10.8"
  }
 },
 "nbformat": 4,
 "nbformat_minor": 5
}
