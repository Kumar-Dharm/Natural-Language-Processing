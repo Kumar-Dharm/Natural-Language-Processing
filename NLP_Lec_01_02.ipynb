{
 "cells": [
  {
   "cell_type": "markdown",
   "metadata": {
    "id": "Zfwxb8p_6WE8"
   },
   "source": [
    "## **NLP Lecture -01 -> On notebook**\n",
    "- Introduction to NLP\n",
    "- What is Natural Language?\n",
    "- Real world application\n",
    "- Common NLP tasks\n",
    "- Approaches to NLP\n",
    "- Challenges in NLP"
   ]
  },
  {
   "cell_type": "markdown",
   "metadata": {
    "id": "LzxhnyBJlOF2"
   },
   "source": [
    "## **NLP Lecture -02 -> On notebook**\n",
    "- NLP Pipeline\n",
    "  - Data Acquisition\n",
    "  - Text Preparation\n",
    "  - Feature Engineering\n",
    "  - Modelling\n",
    "  - Deployment"
   ]
  },
  {
   "cell_type": "markdown",
   "metadata": {
    "id": "_bxAIOhbl0iD"
   },
   "source": [
    "## **Text Preparation: Cleaning**"
   ]
  },
  {
   "cell_type": "markdown",
   "metadata": {
    "id": "9inAMCYZna4p"
   },
   "source": [
    "## a. Removing HTML Tags"
   ]
  },
  {
   "cell_type": "code",
   "execution_count": null,
   "metadata": {
    "colab": {
     "base_uri": "https://localhost:8080/",
     "height": 87
    },
    "id": "c7OGX2zmnDNJ",
    "outputId": "d3195efd-66da-4d32-faf6-874fcd2a4ad1"
   },
   "outputs": [
    {
     "data": {
      "application/vnd.google.colaboratory.intrinsic+json": {
       "type": "string"
      },
      "text/plain": [
       "'<html> <head> <style> </style> </head> <body> <p>Lorem ipsum dolor sit amet, consectetur adipiscing elit, sed do eiusmod tempor incididunt ut labore et dolore magna aliqua. Ut enim ad minim veniam, quis nostrud exercitation ullamco laboris nisi ut aliquip ex ea commodo consequat. Duis aute irure dolor in reprehenderit in voluptate velit esse cillum dolore eu fugiat nulla pariatur. Excepteur sint occaecat cupidatat non proident, sunt in culpa qui officia deserunt mollit anim id est laborum. </p> </body> </html>'"
      ]
     },
     "execution_count": 3,
     "metadata": {},
     "output_type": "execute_result"
    }
   ],
   "source": [
    "sample_text = '<html> <head> <style> </style> </head> <body> <p>Lorem ipsum dolor sit amet, consectetur adipiscing elit, sed do eiusmod tempor incididunt ut labore et dolore magna aliqua. Ut enim ad minim veniam, quis nostrud exercitation ullamco laboris nisi ut aliquip ex ea commodo consequat. Duis aute irure dolor in reprehenderit in voluptate velit esse cillum dolore eu fugiat nulla pariatur. Excepteur sint occaecat cupidatat non proident, sunt in culpa qui officia deserunt mollit anim id est laborum. </p> </body> </html>'\n",
    "sample_text"
   ]
  },
  {
   "cell_type": "code",
   "execution_count": null,
   "metadata": {
    "id": "tDzn5BILnv-T"
   },
   "outputs": [],
   "source": [
    "# Defining function\n",
    "import re\n",
    "def htmltag_strip(data):\n",
    "    p = re.compile(r'<.*?>')\n",
    "    return p.sub('', data)"
   ]
  },
  {
   "cell_type": "code",
   "execution_count": null,
   "metadata": {
    "colab": {
     "base_uri": "https://localhost:8080/",
     "height": 70
    },
    "id": "hFjig3rHn6rF",
    "outputId": "62431e74-bfad-49df-cd53-8cfaab708f2c"
   },
   "outputs": [
    {
     "data": {
      "application/vnd.google.colaboratory.intrinsic+json": {
       "type": "string"
      },
      "text/plain": [
       "'      Lorem ipsum dolor sit amet, consectetur adipiscing elit, sed do eiusmod tempor incididunt ut labore et dolore magna aliqua. Ut enim ad minim veniam, quis nostrud exercitation ullamco laboris nisi ut aliquip ex ea commodo consequat. Duis aute irure dolor in reprehenderit in voluptate velit esse cillum dolore eu fugiat nulla pariatur. Excepteur sint occaecat cupidatat non proident, sunt in culpa qui officia deserunt mollit anim id est laborum.   '"
      ]
     },
     "execution_count": 5,
     "metadata": {},
     "output_type": "execute_result"
    }
   ],
   "source": [
    "htmltag_strip(sample_text)"
   ]
  },
  {
   "cell_type": "markdown",
   "metadata": {
    "id": "yz3O_5Q7pBRB"
   },
   "source": [
    "## b. Unicode Normalization"
   ]
  },
  {
   "cell_type": "code",
   "execution_count": null,
   "metadata": {
    "colab": {
     "base_uri": "https://localhost:8080/",
     "height": 35
    },
    "id": "i312niz-oTwI",
    "outputId": "4790eaca-ffcb-42fa-b90f-31e28e617af4"
   },
   "outputs": [
    {
     "data": {
      "application/vnd.google.colaboratory.intrinsic+json": {
       "type": "string"
      },
      "text/plain": [
       "'Hii👋❤️️, How 🛩🛥 are you🤦\\u200d♀️. I was 🏟🥇 waiting 🌟💖 🇮🇩 since🕒💘. Hope we will ☎️💄 meet tomorrow ✡️🔀 with your 😂🌹 family✍️👍.'"
      ]
     },
     "execution_count": 6,
     "metadata": {},
     "output_type": "execute_result"
    }
   ],
   "source": [
    "emoji_text = 'Hii👋❤️️, How 🛩🛥 are you🤦‍♀️. I was 🏟🥇 waiting 🌟💖 🇮🇩 since🕒💘. Hope we will ☎️💄 meet tomorrow ✡️🔀 with your 😂🌹 family✍️👍.'\n",
    "emoji_text"
   ]
  },
  {
   "cell_type": "code",
   "execution_count": null,
   "metadata": {
    "colab": {
     "base_uri": "https://localhost:8080/"
    },
    "id": "3wegoBgKpSuI",
    "outputId": "37039b5f-fc74-4f3c-ae7f-0da1bdb14a13"
   },
   "outputs": [
    {
     "data": {
      "text/plain": [
       "b'Hii\\xf0\\x9f\\x91\\x8b\\xe2\\x9d\\xa4\\xef\\xb8\\x8f\\xef\\xb8\\x8f, How \\xf0\\x9f\\x9b\\xa9\\xf0\\x9f\\x9b\\xa5 are you\\xf0\\x9f\\xa4\\xa6\\xe2\\x80\\x8d\\xe2\\x99\\x80\\xef\\xb8\\x8f. I was \\xf0\\x9f\\x8f\\x9f\\xf0\\x9f\\xa5\\x87 waiting \\xf0\\x9f\\x8c\\x9f\\xf0\\x9f\\x92\\x96 \\xf0\\x9f\\x87\\xae\\xf0\\x9f\\x87\\xa9 since\\xf0\\x9f\\x95\\x92\\xf0\\x9f\\x92\\x98. Hope we will \\xe2\\x98\\x8e\\xef\\xb8\\x8f\\xf0\\x9f\\x92\\x84 meet tomorrow \\xe2\\x9c\\xa1\\xef\\xb8\\x8f\\xf0\\x9f\\x94\\x80 with your \\xf0\\x9f\\x98\\x82\\xf0\\x9f\\x8c\\xb9 family\\xe2\\x9c\\x8d\\xef\\xb8\\x8f\\xf0\\x9f\\x91\\x8d.'"
      ]
     },
     "execution_count": 7,
     "metadata": {},
     "output_type": "execute_result"
    }
   ],
   "source": [
    "emoji_text.encode('utf-8')"
   ]
  },
  {
   "cell_type": "markdown",
   "metadata": {
    "id": "lGdkzge5tECR"
   },
   "source": [
    "## c. Spelling check"
   ]
  },
  {
   "cell_type": "code",
   "execution_count": null,
   "metadata": {
    "colab": {
     "base_uri": "https://localhost:8080/",
     "height": 35
    },
    "id": "4E2JaZTqtCS8",
    "outputId": "ff591e72-0af5-4ea9-aace-a5e7513dd21d"
   },
   "outputs": [
    {
     "data": {
      "application/vnd.google.colaboratory.intrinsic+json": {
       "type": "string"
      },
      "text/plain": [
       "'ceertain conditions duriing sevaral ggeneration aree modified in the saame maner.'"
      ]
     },
     "execution_count": 11,
     "metadata": {},
     "output_type": "execute_result"
    }
   ],
   "source": [
    "incorrect_text = 'ceertain conditions duriing sevaral ggeneration aree modified in the saame maner.'\n",
    "incorrect_text"
   ]
  },
  {
   "cell_type": "code",
   "execution_count": null,
   "metadata": {
    "colab": {
     "base_uri": "https://localhost:8080/"
    },
    "id": "MjVwZEbax_GI",
    "outputId": "542cbf68-da12-410e-f601-01bad6c993d0"
   },
   "outputs": [
    {
     "data": {
      "text/plain": [
       "TextBlob(\"certain conditions during several generation are modified in the same manner.\")"
      ]
     },
     "execution_count": 12,
     "metadata": {},
     "output_type": "execute_result"
    }
   ],
   "source": [
    "# Importing library\n",
    "from textblob import TextBlob\n",
    "txtblob = TextBlob(incorrect_text)\n",
    "txtblob.correct()"
   ]
  },
  {
   "cell_type": "markdown",
   "metadata": {
    "id": "YO6LuEtAzTrb"
   },
   "source": [
    "## d. Tokenization"
   ]
  },
  {
   "cell_type": "code",
   "execution_count": null,
   "metadata": {
    "colab": {
     "base_uri": "https://localhost:8080/",
     "height": 70
    },
    "id": "OqbimzPNzaEy",
    "outputId": "c9770c3d-acc6-4ca2-e5a1-34dbe4cd00bd"
   },
   "outputs": [
    {
     "data": {
      "application/vnd.google.colaboratory.intrinsic+json": {
       "type": "string"
      },
      "text/plain": [
       "'Lorem ipsum dolor sit amet, consectetur adipiscing elit, sed do eiusmod tempor incididunt ut labore et dolore magna aliqua. Ut enim ad minim veniam, quis nostrud exercitation ullamco laboris nisi ut aliquip ex ea commodo consequat. Duis aute irure dolor in reprehenderit in voluptate velit esse cillum dolore eu fugiat nulla pariatur. Excepteur sint occaecat cupidatat non proident, sunt in culpa qui officia deserunt mollit anim id est laborum.'"
      ]
     },
     "execution_count": 17,
     "metadata": {},
     "output_type": "execute_result"
    }
   ],
   "source": [
    "dummy='Lorem ipsum dolor sit amet, consectetur adipiscing elit, sed do eiusmod tempor incididunt ut labore et dolore magna aliqua. Ut enim ad minim veniam, quis nostrud exercitation ullamco laboris nisi ut aliquip ex ea commodo consequat. Duis aute irure dolor in reprehenderit in voluptate velit esse cillum dolore eu fugiat nulla pariatur. Excepteur sint occaecat cupidatat non proident, sunt in culpa qui officia deserunt mollit anim id est laborum.'\n",
    "dummy"
   ]
  },
  {
   "cell_type": "code",
   "execution_count": null,
   "metadata": {
    "colab": {
     "base_uri": "https://localhost:8080/"
    },
    "id": "A9XJIHhz0Qp7",
    "outputId": "e6c20bcf-863d-4abb-c400-21693af6f456"
   },
   "outputs": [
    {
     "name": "stderr",
     "output_type": "stream",
     "text": [
      "[nltk_data] Downloading package punkt to /root/nltk_data...\n",
      "[nltk_data]   Unzipping tokenizers/punkt.zip.\n"
     ]
    },
    {
     "data": {
      "text/plain": [
       "['Lorem ipsum dolor sit amet, consectetur adipiscing elit, sed do eiusmod tempor incididunt ut labore et dolore magna aliqua.',\n",
       " 'Ut enim ad minim veniam, quis nostrud exercitation ullamco laboris nisi ut aliquip ex ea commodo consequat.',\n",
       " 'Duis aute irure dolor in reprehenderit in voluptate velit esse cillum dolore eu fugiat nulla pariatur.',\n",
       " 'Excepteur sint occaecat cupidatat non proident, sunt in culpa qui officia deserunt mollit anim id est laborum.']"
      ]
     },
     "execution_count": 20,
     "metadata": {},
     "output_type": "execute_result"
    }
   ],
   "source": [
    "# Importing library\n",
    "import nltk\n",
    "nltk.download('punkt')\n",
    "from nltk.tokenize import sent_tokenize, word_tokenize\n",
    "\n",
    "sents = sent_tokenize(dummy)\n",
    "sents"
   ]
  },
  {
   "cell_type": "code",
   "execution_count": null,
   "metadata": {
    "colab": {
     "base_uri": "https://localhost:8080/"
    },
    "id": "tJ1fZ7lP2mHU",
    "outputId": "08c687a8-a38f-4cf1-e261-712016be842f"
   },
   "outputs": [
    {
     "name": "stdout",
     "output_type": "stream",
     "text": [
      "['Lorem', 'ipsum', 'dolor', 'sit', 'amet', ',', 'consectetur', 'adipiscing', 'elit', ',', 'sed', 'do', 'eiusmod', 'tempor', 'incididunt', 'ut', 'labore', 'et', 'dolore', 'magna', 'aliqua', '.']\n",
      "['Ut', 'enim', 'ad', 'minim', 'veniam', ',', 'quis', 'nostrud', 'exercitation', 'ullamco', 'laboris', 'nisi', 'ut', 'aliquip', 'ex', 'ea', 'commodo', 'consequat', '.']\n",
      "['Duis', 'aute', 'irure', 'dolor', 'in', 'reprehenderit', 'in', 'voluptate', 'velit', 'esse', 'cillum', 'dolore', 'eu', 'fugiat', 'nulla', 'pariatur', '.']\n",
      "['Excepteur', 'sint', 'occaecat', 'cupidatat', 'non', 'proident', ',', 'sunt', 'in', 'culpa', 'qui', 'officia', 'deserunt', 'mollit', 'anim', 'id', 'est', 'laborum', '.']\n"
     ]
    }
   ],
   "source": [
    "for word in sents:\n",
    "  print(word_tokenize(word))"
   ]
  },
  {
   "cell_type": "code",
   "execution_count": null,
   "metadata": {
    "colab": {
     "base_uri": "https://localhost:8080/"
    },
    "id": "o9KZaVQ33EOr",
    "outputId": "c6909992-3981-44dc-da51-f49d87c6df61"
   },
   "outputs": [
    {
     "name": "stdout",
     "output_type": "stream",
     "text": [
      "E\n",
      "x\n",
      "c\n",
      "e\n",
      "p\n",
      "t\n",
      "e\n",
      "u\n",
      "r\n"
     ]
    }
   ],
   "source": [
    "for char in word[:9]:\n",
    "  print(char)"
   ]
  },
  {
   "cell_type": "code",
   "execution_count": null,
   "metadata": {
    "id": "XHS0PttD6S9U"
   },
   "outputs": [],
   "source": []
  },
  {
   "cell_type": "code",
   "execution_count": null,
   "metadata": {
    "id": "6Jvnlma_5K6L"
   },
   "outputs": [],
   "source": []
  }
 ],
 "metadata": {
  "colab": {
   "provenance": []
  },
  "kernelspec": {
   "display_name": "Python 3 (ipykernel)",
   "language": "python",
   "name": "python3"
  },
  "language_info": {
   "codemirror_mode": {
    "name": "ipython",
    "version": 3
   },
   "file_extension": ".py",
   "mimetype": "text/x-python",
   "name": "python",
   "nbconvert_exporter": "python",
   "pygments_lexer": "ipython3",
   "version": "3.10.8"
  }
 },
 "nbformat": 4,
 "nbformat_minor": 1
}
