{
 "cells": [
  {
   "cell_type": "markdown",
   "metadata": {},
   "source": [
    "# **NLP Lecture -04: Text Representation**\n",
    "- Introduction\n",
    "- OneHot Encoding\n",
    "- Bag of Words  --> Mainly used for Text Classification problem\n",
    "- n-grams\n",
    "- TF-IDF\n",
    "- Custom Features\n",
    "- Assignment"
   ]
  },
  {
   "cell_type": "markdown",
   "metadata": {},
   "source": [
    "## Assignment_04:\n",
    "Use the following dataset:- https://www.kaggle.com/lakshmi25npathi/imdb-dataset-of-50k-movie-reviews\n",
    "- a. Apply all the preprocessing techniques that you think are necessary\n",
    "- b. Find out the no of words in the entire corpus and also find total no of unique words(vocabulary) using just python\n",
    "- c. Apply One Hot Encoding\n",
    "- d. Apply bag of words and find the vocabulary also find the no of times each word has occured\n",
    "- e. Apply bag of bi-grams and bag of tri-grams and write down your observation about the dimensionality of the vocabulary\n",
    "- g. Apply tf-idf and find out the idf_scores of words, also find out the vocabulary"
   ]
  },
  {
   "cell_type": "markdown",
   "metadata": {},
   "source": [
    "# OneHot Encoding\n",
    "- Corpus: Combination of all strings\n",
    "- Vocabulary: Unique words of corpus\n",
    "- Documents: Individual review of data"
   ]
  },
  {
   "cell_type": "code",
   "execution_count": null,
   "metadata": {
    "_cell_guid": "b1076dfc-b9ad-4769-8c92-a6c4dae69d19",
    "_uuid": "8f2839f25d086af736a60e9eeb907d3b93b6e0e5",
    "execution": {
     "iopub.execute_input": "2023-11-20T17:31:25.966017Z",
     "iopub.status.busy": "2023-11-20T17:31:25.965583Z",
     "iopub.status.idle": "2023-11-20T17:31:26.441235Z",
     "shell.execute_reply": "2023-11-20T17:31:26.440046Z",
     "shell.execute_reply.started": "2023-11-20T17:31:25.965983Z"
    }
   },
   "outputs": [],
   "source": [
    "# Importing library\n",
    "\n",
    "import numpy as np \n",
    "import pandas as pd\n",
    "\n",
    "import os\n",
    "for dirname, _, filenames in os.walk('/kaggle/input'):\n",
    "    for filename in filenames:\n",
    "        print(os.path.join(dirname, filename))"
   ]
  },
  {
   "cell_type": "code",
   "execution_count": null,
   "metadata": {
    "execution": {
     "iopub.execute_input": "2023-11-20T17:31:30.724854Z",
     "iopub.status.busy": "2023-11-20T17:31:30.724291Z",
     "iopub.status.idle": "2023-11-20T17:31:30.752714Z",
     "shell.execute_reply": "2023-11-20T17:31:30.751794Z",
     "shell.execute_reply.started": "2023-11-20T17:31:30.724820Z"
    }
   },
   "outputs": [],
   "source": [
    "# Creating df\n",
    "d={'text':['People Watch Utube','Utube Watch Utube','People Write Comments','Utube Write Comments'], 'result':[1,1,0,0]}\n",
    "df=pd.DataFrame(d)\n",
    "df"
   ]
  },
  {
   "cell_type": "code",
   "execution_count": null,
   "metadata": {
    "execution": {
     "iopub.execute_input": "2023-11-20T03:13:35.347992Z",
     "iopub.status.busy": "2023-11-20T03:13:35.347608Z",
     "iopub.status.idle": "2023-11-20T03:13:35.950135Z",
     "shell.execute_reply": "2023-11-20T03:13:35.948949Z",
     "shell.execute_reply.started": "2023-11-20T03:13:35.347963Z"
    }
   },
   "outputs": [],
   "source": [
    "# Importing Count Vectorizer\n",
    "from sklearn.feature_extraction.text import CountVectorizer\n",
    "cv = CountVectorizer()\n",
    "\n",
    "# NOTE: \n",
    "# Use binary=True, more useful when doing Sentiment Analysis\n",
    "# To remove rare words we can use a hyperparameter --> max_feature = n"
   ]
  },
  {
   "cell_type": "code",
   "execution_count": null,
   "metadata": {
    "execution": {
     "iopub.execute_input": "2023-11-20T03:14:01.980217Z",
     "iopub.status.busy": "2023-11-20T03:14:01.979793Z",
     "iopub.status.idle": "2023-11-20T03:14:01.998841Z",
     "shell.execute_reply": "2023-11-20T03:14:01.997536Z",
     "shell.execute_reply.started": "2023-11-20T03:14:01.980183Z"
    }
   },
   "outputs": [],
   "source": [
    "# Bag of Words\n",
    "bow = cv.fit_transform(df['text'])"
   ]
  },
  {
   "cell_type": "code",
   "execution_count": null,
   "metadata": {
    "execution": {
     "iopub.execute_input": "2023-11-20T03:14:07.310577Z",
     "iopub.status.busy": "2023-11-20T03:14:07.310055Z",
     "iopub.status.idle": "2023-11-20T03:14:07.318191Z",
     "shell.execute_reply": "2023-11-20T03:14:07.316698Z",
     "shell.execute_reply.started": "2023-11-20T03:14:07.310533Z"
    }
   },
   "outputs": [],
   "source": [
    "# Getting all unique vocabulary\n",
    "print(cv.vocabulary_)"
   ]
  },
  {
   "cell_type": "code",
   "execution_count": null,
   "metadata": {
    "execution": {
     "iopub.execute_input": "2023-11-20T03:14:23.469968Z",
     "iopub.status.busy": "2023-11-20T03:14:23.469548Z",
     "iopub.status.idle": "2023-11-20T03:14:23.478164Z",
     "shell.execute_reply": "2023-11-20T03:14:23.476704Z",
     "shell.execute_reply.started": "2023-11-20T03:14:23.469937Z"
    }
   },
   "outputs": [],
   "source": [
    "# Converting documents into vector\n",
    "print(bow[0].toarray())\n",
    "print(bow[1].toarray())\n",
    "print(bow[2].toarray())\n",
    "print(bow[3].toarray())\n",
    "\n",
    "# Note: Check each vocabulary in each documents and create vector"
   ]
  },
  {
   "cell_type": "code",
   "execution_count": null,
   "metadata": {
    "execution": {
     "iopub.execute_input": "2023-11-20T03:17:08.730432Z",
     "iopub.status.busy": "2023-11-20T03:17:08.729969Z",
     "iopub.status.idle": "2023-11-20T03:17:08.738997Z",
     "shell.execute_reply": "2023-11-20T03:17:08.737766Z",
     "shell.execute_reply.started": "2023-11-20T03:17:08.730400Z"
    }
   },
   "outputs": [],
   "source": [
    "# For new input\n",
    "res = cv.transform(['People Watch and Write Comment on Utube']).toarray()\n",
    "res\n",
    "\n",
    "# NOTE: Out of Vocabulary problem is get resolved here"
   ]
  },
  {
   "cell_type": "markdown",
   "metadata": {},
   "source": [
    "# Understanding: sklearn.feature_extraction.text.CountVectorizer"
   ]
  },
  {
   "cell_type": "code",
   "execution_count": null,
   "metadata": {},
   "outputs": [],
   "source": [
    "# Understanding sklearn.feature_extraction.text.CountVectorizer\n",
    "\n",
    "- Convert a collection of text documents to a matrix of token counts.\n",
    "CountVectorizer(\n",
    "    *,\n",
    "    input='content',\n",
    "    encoding='utf-8',\n",
    "    decode_error='strict',\n",
    "    strip_accents=None,\n",
    "    lowercase=True,\n",
    "    preprocessor=None,\n",
    "    tokenizer=None,\n",
    "    stop_words=None,\n",
    "    token_pattern='(?u)\\\\b\\\\w\\\\w+\\\\b',\n",
    "    ngram_range=(1, 1),\n",
    "    analyzer='word',\n",
    "    max_df=1.0,\n",
    "    min_df=1,\n",
    "    max_features=None,\n",
    "    vocabulary=None,\n",
    "    binary=False,\n",
    "    dtype=<class 'numpy.int64'>,)\n",
    "This implementation produces a sparse representation of the counts using scipy.sparse.csr_matrix.\n",
    "\n",
    "Parameters\n",
    "----------\n",
    "input : {'filename', 'file', 'content'}, default='content'\n",
    "    - If `'filename'`, the sequence passed as an argument to fit is expected to be a list of filenames that need reading to fetch the raw content to analyze.\n",
    "    - If `'file'`, the sequence items must have a 'read' method (file-like object) that is called to fetch the bytes in memory.\n",
    "    - If `'content'`, the input is expected to be a sequence of items that can be of type string or byte.\n",
    "\n",
    "encoding : str, default='utf-8'\n",
    "    If bytes or files are given to analyze, this encoding is used to decode.\n",
    "\n",
    "decode_error : {'strict', 'ignore', 'replace'}, default='strict'\n",
    "    Instruction on what to do if a byte sequence is given to analyze that contains characters not of the given `encoding`. \n",
    "    By default, it is 'strict', meaning that a UnicodeDecodeError will be raised. Other values are 'ignore' and 'replace'.\n",
    "\n",
    "strip_accents : {'ascii', 'unicode'} or callable, default=None\n",
    "    Remove accents and perform other character normalization during the preprocessing step.\n",
    "    'ascii' is a fast method that only works on characters that have a direct ASCII mapping.\n",
    "    'unicode' is a slightly slower method that works on any characters. None (default) does nothing.\n",
    "    Both 'ascii' and 'unicode' use NFKD normalization from: func:`unicodedata.normalize`.\n",
    "\n",
    "lowercase : bool, default=True\n",
    "    Convert all characters to lowercase before tokenizing.\n",
    "\n",
    "preprocessor : callable, default=None\n",
    "    Override the preprocessing (strip_accents and lowercase) stage while preserving the tokenizing and n-grams generation steps.\n",
    "    Only applies if ``analyzer`` is not callable.\n",
    "\n",
    "tokenizer : callable, default=None\n",
    "    Override the string tokenization step while preserving the preprocessing and n-grams generation steps. Only applies if ``analyzer == 'word'``.\n",
    "\n",
    "stop_words : {'english'}, list, default=None\n",
    "    If 'english', a built-in stop word list for English is used.\n",
    "    There are several known issues with 'english' and you should consider an alternative (see :ref:`stop_words`).\n",
    "    If a list, that list is assumed to contain stop words, all of which will be removed from the resulting tokens. Only applies if ``analyzer == 'word'``.\n",
    "    If None, no stop words will be used. In this case, setting `max_df`to a higher value, \n",
    "    such as in the range (0.7, 1.0), can automatically detect and filter stop words based on intra corpus document frequency of terms.\n",
    "\n",
    "token_pattern : str or None, default=r\"(?u)\\\\b\\\\w\\\\w+\\\\b\"\n",
    "    Regular expression denoting what constitutes a \"token\", only used if ``analyzer == 'word'``. \n",
    "    The default regexp select tokens of 2 or more alphanumeric characters (punctuation is completely ignored and always treated as a token separator).\n",
    "    If there is a capturing group in token_pattern then the captured group content, not the entire match, becomes the token. \n",
    "    At most one capturing group is permitted.\n",
    "\n",
    "ngram_range : tuple (min_n, max_n), default=(1, 1)\n",
    "    The lower and upper boundary of the range of n-values for different word n-grams or char n-grams to be extracted. All values of n such\n",
    "    such that min_n <= n <= max_n will be used. For example an ``ngram_range`` of ``(1, 1)`` means only unigrams, ``(1, 2)`` means\n",
    "    unigrams and bigrams, and ``(2, 2)`` means only bigrams. Only applies if ``analyzer`` is not callable.\n",
    "\n",
    "analyzer : {'word', 'char', 'char_wb'} or callable, default='word'\n",
    "    Whether the feature should be made of word n-gram or character n-grams.\n",
    "    Option 'char_wb' creates character n-grams only from text inside word boundaries; n-grams at the edges of words are padded with space.\n",
    "    If a callable is passed it is used to extract the sequence of features out of the raw, unprocessed input.\n",
    "\n",
    "    .. versionchanged:: 0.21\n",
    "    Since v0.21, if ``input`` is ``filename`` or ``file``, the data is first read from the file and then passed to the given callable analyzer.\n",
    "\n",
    "max_df : float in range [0.0, 1.0] or int, default=1.0\n",
    "    When building the vocabulary ignore terms that have a document\n",
    "    frequency strictly higher than the given threshold (corpus-specific stop words).\n",
    "    If float, the parameter represents a proportion of documents, integer absolute counts.\n",
    "    This parameter is ignored if vocabulary is not None.\n",
    "\n",
    "min_df : float in range [0.0, 1.0] or int, default=1\n",
    "    When building the vocabulary ignore terms that have a document frequency strictly lower than the given threshold. \n",
    "    This value is also called cut-off in the literature.\n",
    "    If float, the parameter represents a proportion of documents, integer absolute counts.\n",
    "    This parameter is ignored if vocabulary is not None.\n",
    "\n",
    "max_features : int, default=None\n",
    "    If not None, build a vocabulary that only consider the top `max_features` ordered by term frequency across the corpus. \n",
    "    Otherwise, all features are used. This parameter is ignored if vocabulary is not None.\n",
    "\n",
    "vocabulary : Mapping or iterable, default=None\n",
    "    Either a Mapping (e.g., a dict) where keys are terms and values are indices in the feature matrix, or an iterable over terms. \n",
    "    If not given, a vocabulary is determined from the input documents. \n",
    "    Indices in the mapping should not be repeated and should not have any gap between 0 and the largest index.\n",
    "\n",
    "binary : bool, default=False\n",
    "    If True, all non zero counts(like 1,2,3,...) are set to 1. \n",
    "    This is useful for discrete probabilistic models that model binary events rather than integer counts.\n",
    "    \n",
    "dtype : dtype, default=np.int64\n",
    "    Type of the matrix returned by fit_transform() or transform().\n",
    "\n",
    "Attributes\n",
    "----------\n",
    "vocabulary_ : dict\n",
    "    A mapping of terms to feature indices.\n",
    "\n",
    "fixed_vocabulary_ : bool\n",
    "    True if a fixed vocabulary of term to indices mapping is provided by the user.\n",
    "\n",
    "stop_words_ : set\n",
    "    Terms that were ignored because they either:\n",
    "      - occurred in too many documents (`max_df`)\n",
    "      - occurred in too few documents (`min_df`)\n",
    "      - were cut off by feature selection (`max_features`).\n",
    "    This is only available if no vocabulary was given.\n",
    "\n",
    "See Also\n",
    "--------\n",
    "HashingVectorizer : Convert a collection of text documents to a matrix of token counts.\n",
    "TfidfVectorizer : Convert a collection of raw documents to a matrix of TF-IDF features.\n",
    "\n",
    "Notes\n",
    "-----\n",
    "The ``stop_words_`` attribute can get large and increase the model size when pickling. \n",
    "This attribute is provided only for introspection and canbe safely removed using delattr or set to None before pickling.\n",
    "\n",
    "Examples\n",
    "--------\n",
    ">>> from sklearn.feature_extraction.text import CountVectorizer\n",
    ">>> corpus = [\n",
    "...     'This is the first document.',\n",
    "...     'This document is the second document.',\n",
    "...     'And this is the third one.',\n",
    "...     'Is this the first document?',\n",
    "... ]\n",
    ">>> vectorizer = CountVectorizer()\n",
    ">>> X = vectorizer.fit_transform(corpus)\n",
    ">>> vectorizer.get_feature_names_out()\n",
    "array(['and', 'document', 'first', 'is', 'one', 'second', 'the', 'third',\n",
    "       'this'], ...)\n",
    ">>> print(X.toarray())\n",
    "[[0 1 1 1 0 0 1 0 1]\n",
    " [0 2 0 1 0 1 1 0 1]\n",
    " [1 0 0 1 1 0 1 1 1]\n",
    " [0 1 1 1 0 0 1 0 1]]\n",
    ">>> vectorizer2 = CountVectorizer(analyzer='word', ngram_range=(2, 2))\n",
    ">>> X2 = vectorizer2.fit_transform(corpus)\n",
    ">>> vectorizer2.get_feature_names_out()\n",
    "array(['and this', 'document is', 'first document', 'is the', 'is this',\n",
    "       'second document', 'the first', 'the second', 'the third', 'third one',\n",
    "       'this document', 'this is', 'this the'], ...)\n",
    " >>> print(X2.toarray())\n",
    " [[0 0 1 1 0 0 1 0 0 0 0 1 0]\n",
    " [0 1 0 1 0 1 0 1 0 0 1 0 0]\n",
    " [1 0 0 1 0 0 0 0 1 1 0 1 0]\n",
    " [0 0 1 0 1 0 1 0 0 0 0 0 1]]"
   ]
  },
  {
   "cell_type": "markdown",
   "metadata": {},
   "source": [
    "# Bag of n-grams\n",
    "- Here, we consider n-group of words from documents to create a vector"
   ]
  },
  {
   "cell_type": "code",
   "execution_count": null,
   "metadata": {
    "execution": {
     "iopub.execute_input": "2023-11-20T03:44:29.162225Z",
     "iopub.status.busy": "2023-11-20T03:44:29.161749Z",
     "iopub.status.idle": "2023-11-20T03:44:29.169332Z",
     "shell.execute_reply": "2023-11-20T03:44:29.167935Z",
     "shell.execute_reply.started": "2023-11-20T03:44:29.162189Z"
    }
   },
   "outputs": [],
   "source": [
    "# Importing Count Vectorizer\n",
    "from sklearn.feature_extraction.text import CountVectorizer\n",
    "cv = CountVectorizer(ngram_range=(2,2))"
   ]
  },
  {
   "cell_type": "code",
   "execution_count": null,
   "metadata": {
    "execution": {
     "iopub.execute_input": "2023-11-20T03:44:30.473006Z",
     "iopub.status.busy": "2023-11-20T03:44:30.472565Z",
     "iopub.status.idle": "2023-11-20T03:44:30.482770Z",
     "shell.execute_reply": "2023-11-20T03:44:30.481228Z",
     "shell.execute_reply.started": "2023-11-20T03:44:30.472973Z"
    }
   },
   "outputs": [],
   "source": [
    "# Bag of Words\n",
    "bow = cv.fit_transform(df['text'])"
   ]
  },
  {
   "cell_type": "code",
   "execution_count": null,
   "metadata": {
    "execution": {
     "iopub.execute_input": "2023-11-20T03:44:58.013152Z",
     "iopub.status.busy": "2023-11-20T03:44:58.012674Z",
     "iopub.status.idle": "2023-11-20T03:44:58.018635Z",
     "shell.execute_reply": "2023-11-20T03:44:58.017556Z",
     "shell.execute_reply.started": "2023-11-20T03:44:58.013120Z"
    }
   },
   "outputs": [],
   "source": [
    "# Getting all unique vocabulary\n",
    "print(cv.vocabulary_)"
   ]
  },
  {
   "cell_type": "code",
   "execution_count": null,
   "metadata": {
    "execution": {
     "iopub.execute_input": "2023-11-20T03:48:28.532266Z",
     "iopub.status.busy": "2023-11-20T03:48:28.531822Z",
     "iopub.status.idle": "2023-11-20T03:48:28.542102Z",
     "shell.execute_reply": "2023-11-20T03:48:28.540748Z",
     "shell.execute_reply.started": "2023-11-20T03:48:28.532235Z"
    }
   },
   "outputs": [],
   "source": [
    "# Converting documents into vector\n",
    "print(bow[0].toarray())\n",
    "print(bow[1].toarray())\n",
    "print(bow[2].toarray())\n",
    "print(bow[3].toarray())"
   ]
  },
  {
   "cell_type": "markdown",
   "metadata": {},
   "source": [
    "# TF-IDF\n",
    "- If any word in some particular document is occuring more than other then that word will be given higher weightage compare to other.\n",
    "- TF: Term Frequency\n",
    "- IDF: Inverse Document Frequency\n",
    "- TFIDF = TF*IDF"
   ]
  },
  {
   "cell_type": "code",
   "execution_count": null,
   "metadata": {
    "execution": {
     "iopub.execute_input": "2023-11-20T17:34:46.116342Z",
     "iopub.status.busy": "2023-11-20T17:34:46.115836Z",
     "iopub.status.idle": "2023-11-20T17:34:46.145688Z",
     "shell.execute_reply": "2023-11-20T17:34:46.144614Z",
     "shell.execute_reply.started": "2023-11-20T17:34:46.116301Z"
    }
   },
   "outputs": [],
   "source": [
    "# Importing TFIDF-Vectorizer\n",
    "\n",
    "from sklearn.feature_extraction.text import TfidfVectorizer\n",
    "tfidf = TfidfVectorizer()\n",
    "\n",
    "tfidf.fit_transform(df['text']).toarray()  # Why toarray? --> To get sparse matrix in array form"
   ]
  },
  {
   "cell_type": "code",
   "execution_count": null,
   "metadata": {
    "execution": {
     "iopub.execute_input": "2023-11-20T17:35:59.266303Z",
     "iopub.status.busy": "2023-11-20T17:35:59.265897Z",
     "iopub.status.idle": "2023-11-20T17:35:59.274158Z",
     "shell.execute_reply": "2023-11-20T17:35:59.272470Z",
     "shell.execute_reply.started": "2023-11-20T17:35:59.266274Z"
    }
   },
   "outputs": [],
   "source": [
    "# Getting IDF value for each term\n",
    "print(tfidf.idf_)\n",
    "print(tfidf.get_feature_names_out())"
   ]
  },
  {
   "cell_type": "markdown",
   "metadata": {},
   "source": [
    "# Custom Features\n",
    "- No of +ve words\n",
    "- No of -ve words\n",
    "- Total no of words\n",
    "- ...etc"
   ]
  },
  {
   "cell_type": "code",
   "execution_count": null,
   "metadata": {},
   "outputs": [],
   "source": []
  },
  {
   "cell_type": "code",
   "execution_count": null,
   "metadata": {},
   "outputs": [],
   "source": []
  }
 ],
 "metadata": {
  "kaggle": {
   "accelerator": "none",
   "dataSources": [],
   "dockerImageVersionId": 30587,
   "isGpuEnabled": false,
   "isInternetEnabled": false,
   "language": "python",
   "sourceType": "notebook"
  },
  "kernelspec": {
   "display_name": "Python 3 (ipykernel)",
   "language": "python",
   "name": "python3"
  },
  "language_info": {
   "codemirror_mode": {
    "name": "ipython",
    "version": 3
   },
   "file_extension": ".py",
   "mimetype": "text/x-python",
   "name": "python",
   "nbconvert_exporter": "python",
   "pygments_lexer": "ipython3",
   "version": "3.10.8"
  }
 },
 "nbformat": 4,
 "nbformat_minor": 4
}
