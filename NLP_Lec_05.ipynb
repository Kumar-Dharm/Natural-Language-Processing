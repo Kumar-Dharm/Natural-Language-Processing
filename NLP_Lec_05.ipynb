{
 "cells": [
  {
   "cell_type": "markdown",
   "metadata": {
    "id": "N0Ven3I8CYJO"
   },
   "source": [
    "# NLP Lecture -05: Word2Vec"
   ]
  },
  {
   "cell_type": "markdown",
   "metadata": {},
   "source": [
    "## Assignment-05:\n",
    "Use the following dataset:- https://www.kaggle.com/datasets/divyansh22/friends-tv-show-script\n",
    "\n",
    "- Take Friends show script dataset\n",
    "- Apply Word2Vec over that"
   ]
  },
  {
   "cell_type": "markdown",
   "metadata": {
    "id": "tR5pl4R6nDlA"
   },
   "source": [
    "## 1. Using In-built library"
   ]
  },
  {
   "cell_type": "code",
   "execution_count": null,
   "metadata": {
    "id": "2D0_iCHQBE7-",
    "outputId": "25276e52-6df8-49d9-f420-d7014294c3ec"
   },
   "outputs": [],
   "source": [
    "# Installing wget library\n",
    "!pip install gensim\n",
    "!pip install wget"
   ]
  },
  {
   "cell_type": "code",
   "execution_count": null,
   "metadata": {
    "id": "8A9XpaGDAWTQ"
   },
   "outputs": [],
   "source": [
    "# Importing library\n",
    "import gensim\n",
    "from gensim.models import Word2Vec, KeyedVectors"
   ]
  },
  {
   "cell_type": "code",
   "execution_count": null,
   "metadata": {},
   "outputs": [],
   "source": [
    "--------------xxx-------------------xxx------------check-------------------xxx"
   ]
  },
  {
   "cell_type": "code",
   "execution_count": null,
   "metadata": {
    "id": "Nu_U9rN3PLBB",
    "outputId": "20c583ca-b6ab-4cb9-e46a-882928fa6d75"
   },
   "outputs": [],
   "source": [
    "import wget\n",
    "from urllib.error import HTTPError\n",
    "\n",
    "url = 'https://s3.amazonaws.com/dl4j-distribution/GoogleNews-vectors-negative300.bin.gz'\n",
    "try:\n",
    "    filename = wget.download(url)\n",
    "except HTTPError as e:\n",
    "    print(f\"Error downloading file: {e}\")"
   ]
  },
  {
   "cell_type": "code",
   "execution_count": null,
   "metadata": {
    "id": "aeLzGzEnRWiC",
    "outputId": "a490ec1b-b8d8-4629-aea5-3a6d05947f90"
   },
   "outputs": [],
   "source": [
    "import gensim.downloader as api\n",
    "\n",
    "wv = api.load('word2vec-google-news-300')\n",
    "vec_king = wv['king']"
   ]
  },
  {
   "cell_type": "code",
   "execution_count": null,
   "metadata": {
    "id": "bZA8l6MOR3nI"
   },
   "outputs": [],
   "source": [
    "# import wget\n",
    "# url = 'https://s3.amazonaws.com/dl4j-distribution/GoogleNews-vectors-negative300.bin.gz'\n",
    "# filename = wget.download(url)\n",
    "\n",
    "# f_in = gzip.open('GoogleNews-vectors-negative300.bin.gz', 'rb')\n",
    "# f_out = open('GoogleNews-vectors-negative300.bin', 'wb')\n",
    "# f_out.writelines(f_in)\n",
    "\n",
    "# model = KeyedVectors.load_word2vec_format('GoogleNews-vectors-negative300.bin', binary=True, limit=100000)"
   ]
  },
  {
   "cell_type": "code",
   "execution_count": null,
   "metadata": {
    "id": "oWbXijcNBSJN",
    "outputId": "2f7c748d-127b-4fdb-9078-a65888943aee"
   },
   "outputs": [],
   "source": [
    "# Loading Wget (Pre-trained model)\n",
    "import wget\n",
    "!wget -c \"https://s3.amazonaws.com/dl4j-distribution/GoogleNews-vectors-negative300.bin.gz\""
   ]
  },
  {
   "cell_type": "code",
   "execution_count": null,
   "metadata": {
    "id": "9l1JKtCKB-c9"
   },
   "outputs": [],
   "source": [
    "# Creating model object\n",
    "\n",
    "model = KeyedVectors.load_word2vec_format('GoogleNews-vectors-negative300.bin.gz',binary=True)"
   ]
  },
  {
   "cell_type": "code",
   "execution_count": null,
   "metadata": {},
   "outputs": [],
   "source": [
    "--------------xxx--------------------xxx---------------------------xxx"
   ]
  },
  {
   "cell_type": "code",
   "execution_count": null,
   "metadata": {
    "id": "HebfwcGePadY"
   },
   "outputs": [],
   "source": [
    "# Let's see the vector representation of some words\n",
    "model['man']\n",
    "model['cricket']\n",
    "\n",
    "# Task: Try to give color encoding for each feature."
   ]
  },
  {
   "cell_type": "code",
   "execution_count": null,
   "metadata": {
    "id": "uM6e7BHbPha3"
   },
   "outputs": [],
   "source": [
    "# Finding most similar words\n",
    "model.most_similar('man')\n",
    "model.most_similar('cricket')\n",
    "model.most_similar('facebook')"
   ]
  },
  {
   "cell_type": "code",
   "execution_count": null,
   "metadata": {
    "id": "uXS8kiTCPqns"
   },
   "outputs": [],
   "source": [
    "# Getting similarity between two words\n",
    "model.similarity('man','woman')\n",
    "model.similarity('man','PHP')"
   ]
  },
  {
   "cell_type": "code",
   "execution_count": null,
   "metadata": {
    "id": "u4QImkeJPvU6"
   },
   "outputs": [],
   "source": [
    "# To find Odd One Out\n",
    "model.doesnt_match(['PHP','java','monkey'])"
   ]
  },
  {
   "cell_type": "code",
   "execution_count": null,
   "metadata": {
    "id": "JQugbqSyPz9l"
   },
   "outputs": [],
   "source": [
    "# Vector arithematic\n",
    "vec = model['king'] - model['man'] + model['woman']\n",
    "model.most_similar([vec])"
   ]
  },
  {
   "cell_type": "code",
   "execution_count": null,
   "metadata": {
    "id": "x3iTLz0eP4-e"
   },
   "outputs": [],
   "source": [
    "vec = model['INR'] - model ['India'] + model['England']\n",
    "model.most_similar([vec])"
   ]
  },
  {
   "cell_type": "markdown",
   "metadata": {
    "id": "-5djnIgknQA3"
   },
   "source": [
    "## 2. Training our own Word2Vec model:\n",
    "- On Game_of_Thrones Story\n",
    "- Dataset Link: https://www.kaggle.com/datasets/khulasasndh/game-of-thrones-books/"
   ]
  },
  {
   "cell_type": "code",
   "execution_count": null,
   "metadata": {
    "execution": {
     "iopub.execute_input": "2023-11-25T17:57:19.652187Z",
     "iopub.status.busy": "2023-11-25T17:57:19.651799Z",
     "iopub.status.idle": "2023-11-25T17:57:19.656960Z",
     "shell.execute_reply": "2023-11-25T17:57:19.655924Z",
     "shell.execute_reply.started": "2023-11-25T17:57:19.652155Z"
    },
    "id": "CkaY583rP4wO"
   },
   "outputs": [],
   "source": [
    "# Importing library\n",
    "import numpy as np  \n",
    "import pandas as pd \n",
    "import os"
   ]
  },
  {
   "cell_type": "code",
   "execution_count": null,
   "metadata": {
    "execution": {
     "iopub.execute_input": "2023-11-25T17:57:26.832737Z",
     "iopub.status.busy": "2023-11-25T17:57:26.831968Z",
     "iopub.status.idle": "2023-11-25T17:57:26.837373Z",
     "shell.execute_reply": "2023-11-25T17:57:26.836596Z",
     "shell.execute_reply.started": "2023-11-25T17:57:26.832705Z"
    },
    "id": "7po31003P4g3"
   },
   "outputs": [],
   "source": [
    "# Additional import\n",
    "import gensim\n",
    "from nltk import sent_tokenize\n",
    "from gensim.utils import simple_preprocess\n",
    "from gensim.models import Word2Vec, KeyedVectors"
   ]
  },
  {
   "cell_type": "code",
   "execution_count": null,
   "metadata": {
    "execution": {
     "iopub.execute_input": "2023-11-25T17:57:28.832094Z",
     "iopub.status.busy": "2023-11-25T17:57:28.831706Z",
     "iopub.status.idle": "2023-11-25T17:57:39.938291Z",
     "shell.execute_reply": "2023-11-25T17:57:39.937418Z",
     "shell.execute_reply.started": "2023-11-25T17:57:28.832066Z"
    }
   },
   "outputs": [],
   "source": [
    "# Reading file and its contents\n",
    "\n",
    "Game_of_thrones = []                                   # Storing all data in a corpus\n",
    "for dirname, _, filenames in os.walk('/kaggle/input'):\n",
    "    for filename in filenames:\n",
    "        file_path = os.path.join(dirname, filename)\n",
    "        \n",
    "        with open(file_path, 'r', encoding='latin-1') as file:\n",
    "            contents = file.read()\n",
    "            raw_sent = sent_tokenize(contents)\n",
    "            for sent in raw_sent:\n",
    "                Game_of_thrones.append(simple_preprocess(sent))"
   ]
  },
  {
   "cell_type": "code",
   "execution_count": null,
   "metadata": {
    "execution": {
     "iopub.execute_input": "2023-11-25T17:57:43.080650Z",
     "iopub.status.busy": "2023-11-25T17:57:43.079878Z",
     "iopub.status.idle": "2023-11-25T17:57:43.088114Z",
     "shell.execute_reply": "2023-11-25T17:57:43.086972Z",
     "shell.execute_reply.started": "2023-11-25T17:57:43.080597Z"
    }
   },
   "outputs": [],
   "source": [
    "# Getting total no of sentences in the story\n",
    "len(Game_of_thrones)"
   ]
  },
  {
   "cell_type": "code",
   "execution_count": null,
   "metadata": {
    "execution": {
     "iopub.execute_input": "2023-11-25T17:58:27.992169Z",
     "iopub.status.busy": "2023-11-25T17:58:27.991775Z",
     "iopub.status.idle": "2023-11-25T17:58:27.997819Z",
     "shell.execute_reply": "2023-11-25T17:58:27.997023Z",
     "shell.execute_reply.started": "2023-11-25T17:58:27.992124Z"
    }
   },
   "outputs": [],
   "source": [
    "for i in Game_of_thrones[:5]:\n",
    "    print(i)"
   ]
  },
  {
   "cell_type": "code",
   "execution_count": null,
   "metadata": {
    "execution": {
     "iopub.execute_input": "2023-11-25T17:58:34.980099Z",
     "iopub.status.busy": "2023-11-25T17:58:34.979717Z",
     "iopub.status.idle": "2023-11-25T17:58:34.985910Z",
     "shell.execute_reply": "2023-11-25T17:58:34.985066Z",
     "shell.execute_reply.started": "2023-11-25T17:58:34.980066Z"
    }
   },
   "outputs": [],
   "source": [
    "# Creating our own model\n",
    "\n",
    "model = gensim.models.Word2Vec(window = 10, vector_size=100, min_count = 2, workers = 3)\n",
    "\n",
    "# Other parameters\n",
    "# gensim.models.Word2Vec(sentences=None,corpus_file=None,vector_size=100,alpha=0.025,window=5,min_count=5,max_vocab_size=None,\n",
    "#                        sample=0.001,seed=1,workers=3,min_alpha=0.0001,sg=0,hs=0,negative=5,ns_exponent=0.75,cbow_mean=1,\n",
    "#                        hashfxn=<built-in function hash>,epochs=5,null_word=0,trim_rule=None,sorted_vocab=1,batch_words=10000,\n",
    "#                        compute_loss=False,callbacks=(),comment=None,max_final_vocab=None,shrink_windows=True,)"
   ]
  },
  {
   "cell_type": "code",
   "execution_count": null,
   "metadata": {
    "execution": {
     "iopub.execute_input": "2023-11-25T17:58:36.142149Z",
     "iopub.status.busy": "2023-11-25T17:58:36.141714Z",
     "iopub.status.idle": "2023-11-25T17:58:37.155471Z",
     "shell.execute_reply": "2023-11-25T17:58:37.154523Z",
     "shell.execute_reply.started": "2023-11-25T17:58:36.142114Z"
    }
   },
   "outputs": [],
   "source": [
    "# Building vocabulary using unique words\n",
    "model.build_vocab(Game_of_thrones)"
   ]
  },
  {
   "cell_type": "code",
   "execution_count": null,
   "metadata": {
    "execution": {
     "iopub.execute_input": "2023-11-25T17:58:38.965864Z",
     "iopub.status.busy": "2023-11-25T17:58:38.965504Z"
    }
   },
   "outputs": [],
   "source": [
    "# Training of our model\n",
    "model.train(Game_of_thrones, total_examples=model.corpus_count, epochs=model.epochs)\n",
    "\n",
    "len(model.wv.index_to_key)"
   ]
  },
  {
   "cell_type": "code",
   "execution_count": null,
   "metadata": {},
   "outputs": [],
   "source": [
    "# # Defining function\n",
    "# def document_vector(doc):\n",
    "#     # Remove out-of-vocabulary words\n",
    "#     doc = [word for word in doc.split() if word in model.wv.index_to_key]\n",
    "#     return np.mean(model.wv[doc], axis=0)\n",
    "\n",
    "# # Checking 1st review in vector with its dimension\n",
    "# document_vector(df['review'].values[0])\n",
    "# len(document_vector(df['review'].values[0]))"
   ]
  },
  {
   "cell_type": "code",
   "execution_count": null,
   "metadata": {
    "execution": {
     "iopub.execute_input": "2023-11-25T17:58:48.851591Z",
     "iopub.status.busy": "2023-11-25T17:58:48.850988Z",
     "iopub.status.idle": "2023-11-25T17:58:48.859872Z",
     "shell.execute_reply": "2023-11-25T17:58:48.858825Z",
     "shell.execute_reply.started": "2023-11-25T17:58:48.851546Z"
    }
   },
   "outputs": [],
   "source": [
    "# Accessing words\n",
    "model.wv.similarity('arya','sansa')\n",
    "model.wv.similarity('bran','sansa')\n",
    "model.wv.similarity('tywin','sansa')"
   ]
  },
  {
   "cell_type": "code",
   "execution_count": null,
   "metadata": {
    "execution": {
     "iopub.execute_input": "2023-11-25T17:58:51.149377Z",
     "iopub.status.busy": "2023-11-25T17:58:51.148819Z",
     "iopub.status.idle": "2023-11-25T17:58:51.166271Z",
     "shell.execute_reply": "2023-11-25T17:58:51.164841Z",
     "shell.execute_reply.started": "2023-11-25T17:58:51.149346Z"
    }
   },
   "outputs": [],
   "source": [
    "# Accessing words\n",
    "model.wv.most_similar('history')"
   ]
  },
  {
   "cell_type": "code",
   "execution_count": null,
   "metadata": {
    "execution": {
     "iopub.execute_input": "2023-11-25T17:58:53.162904Z",
     "iopub.status.busy": "2023-11-25T17:58:53.161979Z",
     "iopub.status.idle": "2023-11-25T17:58:53.172253Z",
     "shell.execute_reply": "2023-11-25T17:58:53.170937Z",
     "shell.execute_reply.started": "2023-11-25T17:58:53.162862Z"
    }
   },
   "outputs": [],
   "source": [
    "# Finding odd one out\n",
    "model.wv.doesnt_match(['jon','rokon','robb','arya','sansa','bran'])\n",
    "model.wv.doesnt_match(['cersel','jaime','broom','tyrion'])"
   ]
  },
  {
   "cell_type": "code",
   "execution_count": null,
   "metadata": {
    "execution": {
     "iopub.execute_input": "2023-11-25T17:58:55.671383Z",
     "iopub.status.busy": "2023-11-25T17:58:55.671018Z",
     "iopub.status.idle": "2023-11-25T17:58:55.680317Z",
     "shell.execute_reply": "2023-11-25T17:58:55.679275Z",
     "shell.execute_reply.started": "2023-11-25T17:58:55.671354Z"
    }
   },
   "outputs": [],
   "source": [
    "# Getting vector representation of a word\n",
    "model.wv['arya']"
   ]
  },
  {
   "cell_type": "code",
   "execution_count": null,
   "metadata": {
    "execution": {
     "iopub.execute_input": "2023-11-25T17:58:58.239943Z",
     "iopub.status.busy": "2023-11-25T17:58:58.238994Z",
     "iopub.status.idle": "2023-11-25T17:58:58.251024Z",
     "shell.execute_reply": "2023-11-25T17:58:58.250082Z",
     "shell.execute_reply.started": "2023-11-25T17:58:58.239899Z"
    }
   },
   "outputs": [],
   "source": [
    "# Getting vector representation of all the words\n",
    "model.wv.get_normed_vectors()\n",
    "model.wv.get_normed_vectors().shape\n",
    "\n",
    "# shape: (17453, 100) = (unique_words, dimension)"
   ]
  },
  {
   "cell_type": "code",
   "execution_count": null,
   "metadata": {
    "execution": {
     "iopub.execute_input": "2023-11-25T17:59:00.889609Z",
     "iopub.status.busy": "2023-11-25T17:59:00.888869Z",
     "iopub.status.idle": "2023-11-25T17:59:00.896382Z",
     "shell.execute_reply": "2023-11-25T17:59:00.895381Z",
     "shell.execute_reply.started": "2023-11-25T17:59:00.889551Z"
    }
   },
   "outputs": [],
   "source": [
    "# Finding words respective of their vectors\n",
    "x = model.wv.index_to_key\n",
    "len(x)"
   ]
  },
  {
   "cell_type": "code",
   "execution_count": null,
   "metadata": {
    "execution": {
     "iopub.execute_input": "2023-11-25T17:59:08.951267Z",
     "iopub.status.busy": "2023-11-25T17:59:08.950838Z",
     "iopub.status.idle": "2023-11-25T17:59:08.956817Z",
     "shell.execute_reply": "2023-11-25T17:59:08.955674Z",
     "shell.execute_reply.started": "2023-11-25T17:59:08.951230Z"
    }
   },
   "outputs": [],
   "source": [
    "# Performing PCA\n",
    "from sklearn.decomposition import PCA\n",
    "pca = PCA(n_components=3)"
   ]
  },
  {
   "cell_type": "code",
   "execution_count": null,
   "metadata": {
    "execution": {
     "iopub.execute_input": "2023-11-25T18:00:01.732769Z",
     "iopub.status.busy": "2023-11-25T18:00:01.732062Z",
     "iopub.status.idle": "2023-11-25T18:00:01.876278Z",
     "shell.execute_reply": "2023-11-25T18:00:01.874970Z",
     "shell.execute_reply.started": "2023-11-25T18:00:01.732718Z"
    }
   },
   "outputs": [],
   "source": [
    "y = pca.fit_transform(model.wv.get_normed_vectors())\n",
    "y.shape"
   ]
  },
  {
   "cell_type": "code",
   "execution_count": null,
   "metadata": {
    "execution": {
     "iopub.execute_input": "2023-11-25T18:07:06.389998Z",
     "iopub.status.busy": "2023-11-25T18:07:06.389575Z",
     "iopub.status.idle": "2023-11-25T18:07:06.803813Z",
     "shell.execute_reply": "2023-11-25T18:07:06.802834Z",
     "shell.execute_reply.started": "2023-11-25T18:07:06.389967Z"
    }
   },
   "outputs": [],
   "source": [
    "import plotly.express as px\n",
    "\n",
    "fig = px.scatter_3d(y[:100], x=1, y=0, z=2, color=x[:100])   # Plotting first 100 words\n",
    "fig.show()"
   ]
  },
  {
   "cell_type": "code",
   "execution_count": null,
   "metadata": {},
   "outputs": [],
   "source": []
  },
  {
   "cell_type": "code",
   "execution_count": null,
   "metadata": {},
   "outputs": [],
   "source": []
  }
 ],
 "metadata": {
  "colab": {
   "provenance": []
  },
  "kaggle": {
   "accelerator": "none",
   "dataSources": [
    {
     "datasetId": 118601,
     "sourceId": 284856,
     "sourceType": "datasetVersion"
    }
   ],
   "dockerImageVersionId": 30579,
   "isGpuEnabled": false,
   "isInternetEnabled": false,
   "language": "python",
   "sourceType": "notebook"
  },
  "kernelspec": {
   "display_name": "Python 3 (ipykernel)",
   "language": "python",
   "name": "python3"
  },
  "language_info": {
   "codemirror_mode": {
    "name": "ipython",
    "version": 3
   },
   "file_extension": ".py",
   "mimetype": "text/x-python",
   "name": "python",
   "nbconvert_exporter": "python",
   "pygments_lexer": "ipython3",
   "version": "3.10.8"
  }
 },
 "nbformat": 4,
 "nbformat_minor": 4
}
