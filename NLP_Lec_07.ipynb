{
 "cells": [
  {
   "cell_type": "markdown",
   "metadata": {},
   "source": [
    "# NLP Lecture -07: Parts of Speech Tagging\n"
   ]
  },
  {
   "cell_type": "code",
   "execution_count": 1,
   "metadata": {
    "_cell_guid": "b1076dfc-b9ad-4769-8c92-a6c4dae69d19",
    "_uuid": "8f2839f25d086af736a60e9eeb907d3b93b6e0e5",
    "execution": {
     "iopub.execute_input": "2023-12-05T13:43:38.635825Z",
     "iopub.status.busy": "2023-12-05T13:43:38.635418Z",
     "iopub.status.idle": "2023-12-05T13:43:39.093148Z",
     "shell.execute_reply": "2023-12-05T13:43:39.091995Z",
     "shell.execute_reply.started": "2023-12-05T13:43:38.635788Z"
    }
   },
   "outputs": [],
   "source": [
    "# Importing library\n",
    "import numpy as np  \n",
    "import pandas as pd \n",
    "import os\n",
    "\n",
    "for dirname, _, filenames in os.walk('/kaggle/input'):\n",
    "    for filename in filenames:\n",
    "        print(os.path.join(dirname, filename))"
   ]
  },
  {
   "cell_type": "code",
   "execution_count": 2,
   "metadata": {
    "execution": {
     "iopub.execute_input": "2023-12-05T13:43:39.097264Z",
     "iopub.status.busy": "2023-12-05T13:43:39.096334Z",
     "iopub.status.idle": "2023-12-05T13:43:44.991160Z",
     "shell.execute_reply": "2023-12-05T13:43:44.989999Z",
     "shell.execute_reply.started": "2023-12-05T13:43:39.097212Z"
    }
   },
   "outputs": [],
   "source": [
    "# !pip install spacy\n",
    "import spacy"
   ]
  },
  {
   "cell_type": "code",
   "execution_count": 3,
   "metadata": {
    "execution": {
     "iopub.execute_input": "2023-12-05T13:43:44.993122Z",
     "iopub.status.busy": "2023-12-05T13:43:44.992546Z",
     "iopub.status.idle": "2023-12-05T13:43:46.403898Z",
     "shell.execute_reply": "2023-12-05T13:43:46.402620Z",
     "shell.execute_reply.started": "2023-12-05T13:43:44.993089Z"
    }
   },
   "outputs": [],
   "source": [
    "# Loading english library\n",
    "nlp = spacy.load('en_core_web_sm')"
   ]
  },
  {
   "cell_type": "code",
   "execution_count": 4,
   "metadata": {
    "execution": {
     "iopub.execute_input": "2023-12-05T13:43:46.406653Z",
     "iopub.status.busy": "2023-12-05T13:43:46.406282Z",
     "iopub.status.idle": "2023-12-05T13:43:46.443401Z",
     "shell.execute_reply": "2023-12-05T13:43:46.442123Z",
     "shell.execute_reply.started": "2023-12-05T13:43:46.406620Z"
    }
   },
   "outputs": [
    {
     "data": {
      "text/plain": [
       "'I am about to complete full watch list of NLP'"
      ]
     },
     "execution_count": 4,
     "metadata": {},
     "output_type": "execute_result"
    }
   ],
   "source": [
    "# Applying POS tagging\n",
    "doc = nlp(\"I am about to complete full watch list of NLP\")\n",
    "doc.text"
   ]
  },
  {
   "cell_type": "code",
   "execution_count": 5,
   "metadata": {
    "execution": {
     "iopub.execute_input": "2023-12-05T13:43:52.819414Z",
     "iopub.status.busy": "2023-12-05T13:43:52.818816Z",
     "iopub.status.idle": "2023-12-05T13:43:52.829045Z",
     "shell.execute_reply": "2023-12-05T13:43:52.827626Z",
     "shell.execute_reply.started": "2023-12-05T13:43:52.819364Z"
    }
   },
   "outputs": [
    {
     "data": {
      "text/plain": [
       "(complete, list, NLP)"
      ]
     },
     "execution_count": 5,
     "metadata": {},
     "output_type": "execute_result"
    }
   ],
   "source": [
    "# NOTE: Here we can access each word by its index position\n",
    "doc[4], doc[7], doc[9]"
   ]
  },
  {
   "cell_type": "code",
   "execution_count": 6,
   "metadata": {
    "execution": {
     "iopub.execute_input": "2023-12-05T13:43:58.879009Z",
     "iopub.status.busy": "2023-12-05T13:43:58.878592Z",
     "iopub.status.idle": "2023-12-05T13:43:58.888959Z",
     "shell.execute_reply": "2023-12-05T13:43:58.887593Z",
     "shell.execute_reply.started": "2023-12-05T13:43:58.878971Z"
    }
   },
   "outputs": [
    {
     "data": {
      "text/plain": [
       "(95, 87, 84, 94, 100, 84, 92, 92, 85, 96)"
      ]
     },
     "execution_count": 6,
     "metadata": {},
     "output_type": "execute_result"
    }
   ],
   "source": [
    "# Coarse grain Parts of Speech\n",
    "# Checking POS and tag of words\n",
    "doc[0].pos, doc[1].pos, doc[2].pos, doc[3].pos, doc[4].pos, doc[5].pos, doc[6].pos, doc[7].pos, doc[8].pos, doc[9].pos"
   ]
  },
  {
   "cell_type": "code",
   "execution_count": 7,
   "metadata": {
    "execution": {
     "iopub.execute_input": "2023-12-05T13:44:10.142190Z",
     "iopub.status.busy": "2023-12-05T13:44:10.141732Z",
     "iopub.status.idle": "2023-12-05T13:44:10.151068Z",
     "shell.execute_reply": "2023-12-05T13:44:10.150203Z",
     "shell.execute_reply.started": "2023-12-05T13:44:10.142156Z"
    }
   },
   "outputs": [
    {
     "data": {
      "text/plain": [
       "('PRON', 'AUX', 'ADJ', 'PART', 'VERB', 'ADJ', 'NOUN', 'NOUN', 'ADP', 'PROPN')"
      ]
     },
     "execution_count": 7,
     "metadata": {},
     "output_type": "execute_result"
    }
   ],
   "source": [
    "doc[0].pos_, doc[1].pos_, doc[2].pos_, doc[3].pos_, doc[4].pos_, doc[5].pos_, doc[6].pos_, doc[7].pos_, doc[8].pos_, doc[9].pos_"
   ]
  },
  {
   "cell_type": "code",
   "execution_count": 8,
   "metadata": {
    "execution": {
     "iopub.execute_input": "2023-12-05T13:44:19.169902Z",
     "iopub.status.busy": "2023-12-05T13:44:19.169451Z",
     "iopub.status.idle": "2023-12-05T13:44:19.180476Z",
     "shell.execute_reply": "2023-12-05T13:44:19.179098Z",
     "shell.execute_reply.started": "2023-12-05T13:44:19.169869Z"
    }
   },
   "outputs": [
    {
     "data": {
      "text/plain": [
       "(13656873538139661788,\n",
       " 9188597074677201817,\n",
       " 10554686591937588953,\n",
       " 5595707737748328492,\n",
       " 14200088355797579614,\n",
       " 10554686591937588953,\n",
       " 15308085513773655218,\n",
       " 15308085513773655218,\n",
       " 1292078113972184607,\n",
       " 15794550382381185553)"
      ]
     },
     "execution_count": 8,
     "metadata": {},
     "output_type": "execute_result"
    }
   ],
   "source": [
    "doc[0].tag, doc[1].tag, doc[2].tag, doc[3].tag, doc[4].tag, doc[5].tag, doc[6].tag, doc[7].tag, doc[8].tag, doc[9].tag"
   ]
  },
  {
   "cell_type": "code",
   "execution_count": 12,
   "metadata": {
    "execution": {
     "iopub.execute_input": "2023-12-05T13:46:12.265016Z",
     "iopub.status.busy": "2023-12-05T13:46:12.264567Z",
     "iopub.status.idle": "2023-12-05T13:46:12.275764Z",
     "shell.execute_reply": "2023-12-05T13:46:12.274310Z",
     "shell.execute_reply.started": "2023-12-05T13:46:12.264982Z"
    }
   },
   "outputs": [
    {
     "data": {
      "text/plain": [
       "('PRP', 'VBP', 'JJ', 'TO', 'VB', 'JJ', 'NN', 'NN', 'IN', 'NNP')"
      ]
     },
     "execution_count": 12,
     "metadata": {},
     "output_type": "execute_result"
    }
   ],
   "source": [
    "doc[0].tag_, doc[1].tag_, doc[2].tag_, doc[3].tag_, doc[4].tag_, doc[5].tag_, doc[6].tag_, doc[7].tag_, doc[8].tag_, doc[9].tag_"
   ]
  },
  {
   "cell_type": "code",
   "execution_count": 13,
   "metadata": {
    "execution": {
     "iopub.execute_input": "2023-12-05T13:46:15.458929Z",
     "iopub.status.busy": "2023-12-05T13:46:15.458494Z",
     "iopub.status.idle": "2023-12-05T13:46:15.465262Z",
     "shell.execute_reply": "2023-12-05T13:46:15.464370Z",
     "shell.execute_reply.started": "2023-12-05T13:46:15.458894Z"
    }
   },
   "outputs": [
    {
     "data": {
      "text/plain": [
       "'adjective (English), other noun-modifier (Chinese)'"
      ]
     },
     "execution_count": 13,
     "metadata": {},
     "output_type": "execute_result"
    }
   ],
   "source": [
    "# Fine grain Parts of Speech\n",
    "spacy.explain(doc[5].tag_)"
   ]
  },
  {
   "cell_type": "code",
   "execution_count": 14,
   "metadata": {
    "execution": {
     "iopub.execute_input": "2023-12-05T13:46:20.659191Z",
     "iopub.status.busy": "2023-12-05T13:46:20.658722Z",
     "iopub.status.idle": "2023-12-05T13:46:20.666653Z",
     "shell.execute_reply": "2023-12-05T13:46:20.665105Z",
     "shell.execute_reply.started": "2023-12-05T13:46:20.659155Z"
    }
   },
   "outputs": [
    {
     "name": "stdout",
     "output_type": "stream",
     "text": [
      "I --> PRON --> PRP --> pronoun, personal\n",
      "am --> AUX --> VBP --> verb, non-3rd person singular present\n",
      "about --> ADJ --> JJ --> adjective (English), other noun-modifier (Chinese)\n",
      "to --> PART --> TO --> infinitival \"to\"\n",
      "complete --> VERB --> VB --> verb, base form\n",
      "full --> ADJ --> JJ --> adjective (English), other noun-modifier (Chinese)\n",
      "watch --> NOUN --> NN --> noun, singular or mass\n",
      "list --> NOUN --> NN --> noun, singular or mass\n",
      "of --> ADP --> IN --> conjunction, subordinating or preposition\n",
      "NLP --> PROPN --> NNP --> noun, proper singular\n"
     ]
    }
   ],
   "source": [
    "# Using loop\n",
    "for i in doc:\n",
    "    print(i, '-->', i.pos_, '-->', i.tag_, '-->', spacy.explain(i.tag_))"
   ]
  },
  {
   "cell_type": "code",
   "execution_count": 15,
   "metadata": {
    "execution": {
     "iopub.execute_input": "2023-12-05T13:46:27.389203Z",
     "iopub.status.busy": "2023-12-05T13:46:27.388779Z",
     "iopub.status.idle": "2023-12-05T13:46:27.418415Z",
     "shell.execute_reply": "2023-12-05T13:46:27.417128Z",
     "shell.execute_reply.started": "2023-12-05T13:46:27.389172Z"
    }
   },
   "outputs": [
    {
     "name": "stdout",
     "output_type": "stream",
     "text": [
      "I --> PRON --> PRP --> pronoun, personal\n",
      "left --> VERB --> VBD --> verb, past tense\n",
      "the --> DET --> DT --> determiner\n",
      "room --> NOUN --> NN --> noun, singular or mass\n",
      "\n",
      "To --> ADP --> IN --> conjunction, subordinating or preposition\n",
      "the --> DET --> DT --> determiner\n",
      "left --> NOUN --> NN --> noun, singular or mass\n",
      "of --> ADP --> IN --> conjunction, subordinating or preposition\n",
      "room --> NOUN --> NN --> noun, singular or mass\n"
     ]
    }
   ],
   "source": [
    "# Can spacy able to differentiate word POS depending on context?\n",
    "doc1 = nlp('I left the room')\n",
    "for i in doc1:\n",
    "    print(i, '-->', i.pos_, '-->', i.tag_, '-->', spacy.explain(i.tag_))\n",
    "print()\n",
    "\n",
    "doc2 = nlp('To the left of room')\n",
    "for i in doc2:\n",
    "    print(i, '-->', i.pos_, '-->', i.tag_, '-->', spacy.explain(i.tag_))"
   ]
  },
  {
   "cell_type": "code",
   "execution_count": 16,
   "metadata": {
    "execution": {
     "iopub.execute_input": "2023-12-05T13:46:37.310387Z",
     "iopub.status.busy": "2023-12-05T13:46:37.309336Z",
     "iopub.status.idle": "2023-12-05T13:46:37.354929Z",
     "shell.execute_reply": "2023-12-05T13:46:37.353294Z",
     "shell.execute_reply.started": "2023-12-05T13:46:37.310346Z"
    }
   },
   "outputs": [
    {
     "name": "stdout",
     "output_type": "stream",
     "text": [
      "I --> PRON --> PRP --> pronoun, personal\n",
      "read --> VERB --> VBP --> verb, non-3rd person singular present\n",
      "books --> NOUN --> NNS --> noun, plural\n",
      "on --> ADP --> IN --> conjunction, subordinating or preposition\n",
      "politics --> NOUN --> NNS --> noun, plural\n",
      "\n",
      "I --> PRON --> PRP --> pronoun, personal\n",
      "have --> AUX --> VBP --> verb, non-3rd person singular present\n",
      "read --> VERB --> VBN --> verb, past participle\n",
      "a --> DET --> DT --> determiner\n",
      "book --> NOUN --> NN --> noun, singular or mass\n",
      "on --> ADP --> IN --> conjunction, subordinating or preposition\n",
      "politics --> NOUN --> NNS --> noun, plural\n"
     ]
    }
   ],
   "source": [
    "# Can spacy able to differentiate word POS depending on context?\n",
    "doc3 = nlp('I read books on politics')\n",
    "for i in doc3:\n",
    "    print(i, '-->', i.pos_, '-->', i.tag_, '-->', spacy.explain(i.tag_))\n",
    "print()\n",
    "\n",
    "doc4 = nlp('I have read a book on politics')\n",
    "for i in doc4:\n",
    "    print(i, '-->', i.pos_, '-->', i.tag_, '-->', spacy.explain(i.tag_))"
   ]
  },
  {
   "cell_type": "code",
   "execution_count": 17,
   "metadata": {
    "execution": {
     "iopub.execute_input": "2023-12-05T13:47:11.459010Z",
     "iopub.status.busy": "2023-12-05T13:47:11.458612Z",
     "iopub.status.idle": "2023-12-05T13:47:11.481128Z",
     "shell.execute_reply": "2023-12-05T13:47:11.480116Z",
     "shell.execute_reply.started": "2023-12-05T13:47:11.458979Z"
    }
   },
   "outputs": [
    {
     "name": "stdout",
     "output_type": "stream",
     "text": [
      "The --> DET --> DT --> determiner\n",
      "quick --> ADJ --> JJ --> adjective (English), other noun-modifier (Chinese)\n",
      "brown --> ADJ --> JJ --> adjective (English), other noun-modifier (Chinese)\n",
      "fox --> NOUN --> NN --> noun, singular or mass\n",
      "jumped --> VERB --> VBD --> verb, past tense\n",
      "over --> ADP --> IN --> conjunction, subordinating or preposition\n",
      "the --> DET --> DT --> determiner\n",
      "lazy --> ADJ --> JJ --> adjective (English), other noun-modifier (Chinese)\n",
      "dog --> NOUN --> NN --> noun, singular or mass\n"
     ]
    }
   ],
   "source": [
    "doc5 = nlp('The quick brown fox jumped over the lazy dog')\n",
    "for i in doc5:\n",
    "    print(i, '-->', i.pos_, '-->', i.tag_, '-->', spacy.explain(i.tag_))"
   ]
  },
  {
   "cell_type": "code",
   "execution_count": 18,
   "metadata": {
    "execution": {
     "iopub.execute_input": "2023-12-05T13:47:20.798983Z",
     "iopub.status.busy": "2023-12-05T13:47:20.798579Z",
     "iopub.status.idle": "2023-12-05T13:47:20.815845Z",
     "shell.execute_reply": "2023-12-05T13:47:20.814573Z",
     "shell.execute_reply.started": "2023-12-05T13:47:20.798952Z"
    }
   },
   "outputs": [
    {
     "data": {
      "text/html": [
       "<span class=\"tex2jax_ignore\"><svg xmlns=\"http://www.w3.org/2000/svg\" xmlns:xlink=\"http://www.w3.org/1999/xlink\" xml:lang=\"en\" id=\"f519b4c40140427d8c586384cbda26ad-0\" class=\"displacy\" width=\"950\" height=\"287.0\" direction=\"ltr\" style=\"max-width: none; height: 287.0px; color: #fff; background: #00a65a; font-family: Arial; direction: ltr\">\n",
       "<text class=\"displacy-token\" fill=\"currentColor\" text-anchor=\"middle\" y=\"197.0\">\n",
       "    <tspan class=\"displacy-word\" fill=\"currentColor\" x=\"50\">The</tspan>\n",
       "    <tspan class=\"displacy-tag\" dy=\"2em\" fill=\"currentColor\" x=\"50\">DET</tspan>\n",
       "</text>\n",
       "\n",
       "<text class=\"displacy-token\" fill=\"currentColor\" text-anchor=\"middle\" y=\"197.0\">\n",
       "    <tspan class=\"displacy-word\" fill=\"currentColor\" x=\"150\">quick</tspan>\n",
       "    <tspan class=\"displacy-tag\" dy=\"2em\" fill=\"currentColor\" x=\"150\">ADJ</tspan>\n",
       "</text>\n",
       "\n",
       "<text class=\"displacy-token\" fill=\"currentColor\" text-anchor=\"middle\" y=\"197.0\">\n",
       "    <tspan class=\"displacy-word\" fill=\"currentColor\" x=\"250\">brown</tspan>\n",
       "    <tspan class=\"displacy-tag\" dy=\"2em\" fill=\"currentColor\" x=\"250\">ADJ</tspan>\n",
       "</text>\n",
       "\n",
       "<text class=\"displacy-token\" fill=\"currentColor\" text-anchor=\"middle\" y=\"197.0\">\n",
       "    <tspan class=\"displacy-word\" fill=\"currentColor\" x=\"350\">fox</tspan>\n",
       "    <tspan class=\"displacy-tag\" dy=\"2em\" fill=\"currentColor\" x=\"350\">NOUN</tspan>\n",
       "</text>\n",
       "\n",
       "<text class=\"displacy-token\" fill=\"currentColor\" text-anchor=\"middle\" y=\"197.0\">\n",
       "    <tspan class=\"displacy-word\" fill=\"currentColor\" x=\"450\">jumped</tspan>\n",
       "    <tspan class=\"displacy-tag\" dy=\"2em\" fill=\"currentColor\" x=\"450\">VERB</tspan>\n",
       "</text>\n",
       "\n",
       "<text class=\"displacy-token\" fill=\"currentColor\" text-anchor=\"middle\" y=\"197.0\">\n",
       "    <tspan class=\"displacy-word\" fill=\"currentColor\" x=\"550\">over</tspan>\n",
       "    <tspan class=\"displacy-tag\" dy=\"2em\" fill=\"currentColor\" x=\"550\">ADP</tspan>\n",
       "</text>\n",
       "\n",
       "<text class=\"displacy-token\" fill=\"currentColor\" text-anchor=\"middle\" y=\"197.0\">\n",
       "    <tspan class=\"displacy-word\" fill=\"currentColor\" x=\"650\">the</tspan>\n",
       "    <tspan class=\"displacy-tag\" dy=\"2em\" fill=\"currentColor\" x=\"650\">DET</tspan>\n",
       "</text>\n",
       "\n",
       "<text class=\"displacy-token\" fill=\"currentColor\" text-anchor=\"middle\" y=\"197.0\">\n",
       "    <tspan class=\"displacy-word\" fill=\"currentColor\" x=\"750\">lazy</tspan>\n",
       "    <tspan class=\"displacy-tag\" dy=\"2em\" fill=\"currentColor\" x=\"750\">ADJ</tspan>\n",
       "</text>\n",
       "\n",
       "<text class=\"displacy-token\" fill=\"currentColor\" text-anchor=\"middle\" y=\"197.0\">\n",
       "    <tspan class=\"displacy-word\" fill=\"currentColor\" x=\"850\">dog</tspan>\n",
       "    <tspan class=\"displacy-tag\" dy=\"2em\" fill=\"currentColor\" x=\"850\">NOUN</tspan>\n",
       "</text>\n",
       "\n",
       "<g class=\"displacy-arrow\">\n",
       "    <path class=\"displacy-arc\" id=\"arrow-f519b4c40140427d8c586384cbda26ad-0-0\" stroke-width=\"2px\" d=\"M62,152.0 62,102.0 350.0,102.0 350.0,152.0\" fill=\"none\" stroke=\"currentColor\"/>\n",
       "    <text dy=\"1.25em\" style=\"font-size: 0.8em; letter-spacing: 1px\">\n",
       "        <textPath xlink:href=\"#arrow-f519b4c40140427d8c586384cbda26ad-0-0\" class=\"displacy-label\" startOffset=\"50%\" side=\"left\" fill=\"currentColor\" text-anchor=\"middle\">det</textPath>\n",
       "    </text>\n",
       "    <path class=\"displacy-arrowhead\" d=\"M62,154.0 L58,146.0 66,146.0\" fill=\"currentColor\"/>\n",
       "</g>\n",
       "\n",
       "<g class=\"displacy-arrow\">\n",
       "    <path class=\"displacy-arc\" id=\"arrow-f519b4c40140427d8c586384cbda26ad-0-1\" stroke-width=\"2px\" d=\"M162,152.0 162,118.66666666666666 347.0,118.66666666666666 347.0,152.0\" fill=\"none\" stroke=\"currentColor\"/>\n",
       "    <text dy=\"1.25em\" style=\"font-size: 0.8em; letter-spacing: 1px\">\n",
       "        <textPath xlink:href=\"#arrow-f519b4c40140427d8c586384cbda26ad-0-1\" class=\"displacy-label\" startOffset=\"50%\" side=\"left\" fill=\"currentColor\" text-anchor=\"middle\">amod</textPath>\n",
       "    </text>\n",
       "    <path class=\"displacy-arrowhead\" d=\"M162,154.0 L158,146.0 166,146.0\" fill=\"currentColor\"/>\n",
       "</g>\n",
       "\n",
       "<g class=\"displacy-arrow\">\n",
       "    <path class=\"displacy-arc\" id=\"arrow-f519b4c40140427d8c586384cbda26ad-0-2\" stroke-width=\"2px\" d=\"M262,152.0 262,135.33333333333334 344.0,135.33333333333334 344.0,152.0\" fill=\"none\" stroke=\"currentColor\"/>\n",
       "    <text dy=\"1.25em\" style=\"font-size: 0.8em; letter-spacing: 1px\">\n",
       "        <textPath xlink:href=\"#arrow-f519b4c40140427d8c586384cbda26ad-0-2\" class=\"displacy-label\" startOffset=\"50%\" side=\"left\" fill=\"currentColor\" text-anchor=\"middle\">amod</textPath>\n",
       "    </text>\n",
       "    <path class=\"displacy-arrowhead\" d=\"M262,154.0 L258,146.0 266,146.0\" fill=\"currentColor\"/>\n",
       "</g>\n",
       "\n",
       "<g class=\"displacy-arrow\">\n",
       "    <path class=\"displacy-arc\" id=\"arrow-f519b4c40140427d8c586384cbda26ad-0-3\" stroke-width=\"2px\" d=\"M362,152.0 362,135.33333333333334 444.0,135.33333333333334 444.0,152.0\" fill=\"none\" stroke=\"currentColor\"/>\n",
       "    <text dy=\"1.25em\" style=\"font-size: 0.8em; letter-spacing: 1px\">\n",
       "        <textPath xlink:href=\"#arrow-f519b4c40140427d8c586384cbda26ad-0-3\" class=\"displacy-label\" startOffset=\"50%\" side=\"left\" fill=\"currentColor\" text-anchor=\"middle\">nsubj</textPath>\n",
       "    </text>\n",
       "    <path class=\"displacy-arrowhead\" d=\"M362,154.0 L358,146.0 366,146.0\" fill=\"currentColor\"/>\n",
       "</g>\n",
       "\n",
       "<g class=\"displacy-arrow\">\n",
       "    <path class=\"displacy-arc\" id=\"arrow-f519b4c40140427d8c586384cbda26ad-0-4\" stroke-width=\"2px\" d=\"M462,152.0 462,135.33333333333334 544.0,135.33333333333334 544.0,152.0\" fill=\"none\" stroke=\"currentColor\"/>\n",
       "    <text dy=\"1.25em\" style=\"font-size: 0.8em; letter-spacing: 1px\">\n",
       "        <textPath xlink:href=\"#arrow-f519b4c40140427d8c586384cbda26ad-0-4\" class=\"displacy-label\" startOffset=\"50%\" side=\"left\" fill=\"currentColor\" text-anchor=\"middle\">prep</textPath>\n",
       "    </text>\n",
       "    <path class=\"displacy-arrowhead\" d=\"M544.0,154.0 L548.0,146.0 540.0,146.0\" fill=\"currentColor\"/>\n",
       "</g>\n",
       "\n",
       "<g class=\"displacy-arrow\">\n",
       "    <path class=\"displacy-arc\" id=\"arrow-f519b4c40140427d8c586384cbda26ad-0-5\" stroke-width=\"2px\" d=\"M662,152.0 662,118.66666666666666 847.0,118.66666666666666 847.0,152.0\" fill=\"none\" stroke=\"currentColor\"/>\n",
       "    <text dy=\"1.25em\" style=\"font-size: 0.8em; letter-spacing: 1px\">\n",
       "        <textPath xlink:href=\"#arrow-f519b4c40140427d8c586384cbda26ad-0-5\" class=\"displacy-label\" startOffset=\"50%\" side=\"left\" fill=\"currentColor\" text-anchor=\"middle\">det</textPath>\n",
       "    </text>\n",
       "    <path class=\"displacy-arrowhead\" d=\"M662,154.0 L658,146.0 666,146.0\" fill=\"currentColor\"/>\n",
       "</g>\n",
       "\n",
       "<g class=\"displacy-arrow\">\n",
       "    <path class=\"displacy-arc\" id=\"arrow-f519b4c40140427d8c586384cbda26ad-0-6\" stroke-width=\"2px\" d=\"M762,152.0 762,135.33333333333334 844.0,135.33333333333334 844.0,152.0\" fill=\"none\" stroke=\"currentColor\"/>\n",
       "    <text dy=\"1.25em\" style=\"font-size: 0.8em; letter-spacing: 1px\">\n",
       "        <textPath xlink:href=\"#arrow-f519b4c40140427d8c586384cbda26ad-0-6\" class=\"displacy-label\" startOffset=\"50%\" side=\"left\" fill=\"currentColor\" text-anchor=\"middle\">amod</textPath>\n",
       "    </text>\n",
       "    <path class=\"displacy-arrowhead\" d=\"M762,154.0 L758,146.0 766,146.0\" fill=\"currentColor\"/>\n",
       "</g>\n",
       "\n",
       "<g class=\"displacy-arrow\">\n",
       "    <path class=\"displacy-arc\" id=\"arrow-f519b4c40140427d8c586384cbda26ad-0-7\" stroke-width=\"2px\" d=\"M562,152.0 562,102.0 850.0,102.0 850.0,152.0\" fill=\"none\" stroke=\"currentColor\"/>\n",
       "    <text dy=\"1.25em\" style=\"font-size: 0.8em; letter-spacing: 1px\">\n",
       "        <textPath xlink:href=\"#arrow-f519b4c40140427d8c586384cbda26ad-0-7\" class=\"displacy-label\" startOffset=\"50%\" side=\"left\" fill=\"currentColor\" text-anchor=\"middle\">pobj</textPath>\n",
       "    </text>\n",
       "    <path class=\"displacy-arrowhead\" d=\"M850.0,154.0 L854.0,146.0 846.0,146.0\" fill=\"currentColor\"/>\n",
       "</g>\n",
       "</svg></span>"
      ],
      "text/plain": [
       "<IPython.core.display.HTML object>"
      ]
     },
     "metadata": {},
     "output_type": "display_data"
    }
   ],
   "source": [
    "# Visual representation of POS\n",
    "from spacy import displacy\n",
    "option = {'distance':100,\n",
    "         'compact':True,\n",
    "         'color':'#fff',\n",
    "         'bg':'#00a65a'}\n",
    "displacy.render(doc5, style='dep', jupyter=True, options=option)"
   ]
  },
  {
   "cell_type": "code",
   "execution_count": null,
   "metadata": {},
   "outputs": [],
   "source": []
  },
  {
   "cell_type": "code",
   "execution_count": null,
   "metadata": {},
   "outputs": [],
   "source": []
  }
 ],
 "metadata": {
  "kaggle": {
   "accelerator": "none",
   "dataSources": [],
   "dockerImageVersionId": 30587,
   "isGpuEnabled": false,
   "isInternetEnabled": false,
   "language": "python",
   "sourceType": "notebook"
  },
  "kernelspec": {
   "display_name": "Python 3 (ipykernel)",
   "language": "python",
   "name": "python3"
  },
  "language_info": {
   "codemirror_mode": {
    "name": "ipython",
    "version": 3
   },
   "file_extension": ".py",
   "mimetype": "text/x-python",
   "name": "python",
   "nbconvert_exporter": "python",
   "pygments_lexer": "ipython3",
   "version": "3.10.8"
  }
 },
 "nbformat": 4,
 "nbformat_minor": 4
}
